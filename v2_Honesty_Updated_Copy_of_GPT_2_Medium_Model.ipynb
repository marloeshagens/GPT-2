{
  "nbformat": 4,
  "nbformat_minor": 0,
  "metadata": {
    "colab": {
      "name": "v2 Honesty Updated Copy of GPT-2_Medium_Model.ipynb",
      "provenance": [],
      "collapsed_sections": [
        "wl1YCGYtGzdX"
      ]
    },
    "kernelspec": {
      "name": "python3",
      "display_name": "Python 3"
    },
    "accelerator": "GPU"
  },
  "cells": [
    {
      "cell_type": "markdown",
      "metadata": {
        "id": "Pzxl1vYX-1kk"
      },
      "source": [
        "Setup:\n",
        "\n",
        "1) Make sure GPU is enabled, go to edit->notebook settings->Hardware Accelerator GPU\n",
        "\n",
        "2) Make a copy to your google drive, click on copy to drive in panel"
      ]
    },
    {
      "cell_type": "markdown",
      "metadata": {
        "id": "iW0abT07ZkhZ"
      },
      "source": [
        "Note: Colab will reset after 12 hours make sure to save your model checkpoints to google drive around 10-11 hours mark or before, then go to runtime->reset all runtimes. Now copy your train model back into colab and start training again from the previous checkpoint."
      ]
    },
    {
      "cell_type": "markdown",
      "metadata": {
        "id": "PTyQAjRqG7D9"
      },
      "source": [
        "#Installing requirements & preparing training"
      ]
    },
    {
      "cell_type": "markdown",
      "metadata": {
        "id": "iLXW02eIYpcB"
      },
      "source": [
        "clone and cd into repo, nshepperd's fork https://github.com/nshepperd/gpt-2"
      ]
    },
    {
      "cell_type": "code",
      "metadata": {
        "id": "ICYu3w9hIJkC",
        "colab": {
          "base_uri": "https://localhost:8080/",
          "height": 102
        },
        "outputId": "fedc0591-3b5e-472c-8e0f-56a88a094ef6"
      },
      "source": [
        "!git clone https://github.com/nshepperd/gpt-2.git"
      ],
      "execution_count": null,
      "outputs": [
        {
          "output_type": "stream",
          "text": [
            "Cloning into 'gpt-2'...\n",
            "remote: Enumerating objects: 366, done.\u001b[K\n",
            "remote: Total 366 (delta 0), reused 0 (delta 0), pack-reused 366\u001b[K\n",
            "Receiving objects: 100% (366/366), 4.42 MiB | 2.94 MiB/s, done.\n",
            "Resolving deltas: 100% (198/198), done.\n"
          ],
          "name": "stdout"
        }
      ]
    },
    {
      "cell_type": "code",
      "metadata": {
        "id": "6eEIs3ApZUVO",
        "colab": {
          "base_uri": "https://localhost:8080/",
          "height": 34
        },
        "outputId": "ea7ff9bb-d0fe-47c1-8b1f-a646f7dd30ba"
      },
      "source": [
        "cd gpt-2"
      ],
      "execution_count": null,
      "outputs": [
        {
          "output_type": "stream",
          "text": [
            "/content/gpt-2\n"
          ],
          "name": "stdout"
        }
      ]
    },
    {
      "cell_type": "markdown",
      "metadata": {
        "id": "Qtn1qZPgZLb0"
      },
      "source": [
        "Install requirements"
      ]
    },
    {
      "cell_type": "code",
      "metadata": {
        "id": "-cPcBur5qvSy"
      },
      "source": [
        "from datetime import datetime\n",
        "from google.colab import files"
      ],
      "execution_count": null,
      "outputs": []
    },
    {
      "cell_type": "markdown",
      "metadata": {
        "id": "xrQ-MZQqii1X"
      },
      "source": [
        "MARLOES edit: try to install the correct tensorflow version (if this does not work, first uninstall tensorflow)"
      ]
    },
    {
      "cell_type": "code",
      "metadata": {
        "id": "cry-GjpYYiop",
        "colab": {
          "base_uri": "https://localhost:8080/",
          "height": 1000
        },
        "outputId": "031cb2d8-5efc-42ab-e898-0df9034e242d"
      },
      "source": [
        "!pip install tensorflow==1.15\n",
        "!pip install tensorflow-gpu==1.15\n",
        "!pip install 'tensorflow-estimator<1.15.0rc0,>=1.14.0rc0' --force-reinstall"
      ],
      "execution_count": null,
      "outputs": [
        {
          "output_type": "stream",
          "text": [
            "Collecting tensorflow==1.15\n",
            "\u001b[?25l  Downloading https://files.pythonhosted.org/packages/3f/98/5a99af92fb911d7a88a0005ad55005f35b4c1ba8d75fba02df726cd936e6/tensorflow-1.15.0-cp36-cp36m-manylinux2010_x86_64.whl (412.3MB)\n",
            "\u001b[K     |████████████████████████████████| 412.3MB 39kB/s \n",
            "\u001b[?25hRequirement already satisfied: protobuf>=3.6.1 in /usr/local/lib/python3.6/dist-packages (from tensorflow==1.15) (3.10.0)\n",
            "Requirement already satisfied: google-pasta>=0.1.6 in /usr/local/lib/python3.6/dist-packages (from tensorflow==1.15) (0.2.0)\n",
            "Collecting tensorflow-estimator==1.15.1\n",
            "\u001b[?25l  Downloading https://files.pythonhosted.org/packages/de/62/2ee9cd74c9fa2fa450877847ba560b260f5d0fb70ee0595203082dafcc9d/tensorflow_estimator-1.15.1-py2.py3-none-any.whl (503kB)\n",
            "\u001b[K     |████████████████████████████████| 512kB 65.7MB/s \n",
            "\u001b[?25hRequirement already satisfied: six>=1.10.0 in /usr/local/lib/python3.6/dist-packages (from tensorflow==1.15) (1.12.0)\n",
            "Collecting gast==0.2.2\n",
            "  Downloading https://files.pythonhosted.org/packages/4e/35/11749bf99b2d4e3cceb4d55ca22590b0d7c2c62b9de38ac4a4a7f4687421/gast-0.2.2.tar.gz\n",
            "Requirement already satisfied: astor>=0.6.0 in /usr/local/lib/python3.6/dist-packages (from tensorflow==1.15) (0.8.1)\n",
            "Requirement already satisfied: absl-py>=0.7.0 in /usr/local/lib/python3.6/dist-packages (from tensorflow==1.15) (0.9.0)\n",
            "Requirement already satisfied: numpy<2.0,>=1.16.0 in /usr/local/lib/python3.6/dist-packages (from tensorflow==1.15) (1.18.2)\n",
            "Requirement already satisfied: wrapt>=1.11.1 in /usr/local/lib/python3.6/dist-packages (from tensorflow==1.15) (1.12.1)\n",
            "Requirement already satisfied: opt-einsum>=2.3.2 in /usr/local/lib/python3.6/dist-packages (from tensorflow==1.15) (3.2.0)\n",
            "Requirement already satisfied: keras-applications>=1.0.8 in /usr/local/lib/python3.6/dist-packages (from tensorflow==1.15) (1.0.8)\n",
            "Requirement already satisfied: termcolor>=1.1.0 in /usr/local/lib/python3.6/dist-packages (from tensorflow==1.15) (1.1.0)\n",
            "Requirement already satisfied: wheel>=0.26 in /usr/local/lib/python3.6/dist-packages (from tensorflow==1.15) (0.34.2)\n",
            "Requirement already satisfied: grpcio>=1.8.6 in /usr/local/lib/python3.6/dist-packages (from tensorflow==1.15) (1.27.2)\n",
            "Requirement already satisfied: keras-preprocessing>=1.0.5 in /usr/local/lib/python3.6/dist-packages (from tensorflow==1.15) (1.1.0)\n",
            "Collecting tensorboard<1.16.0,>=1.15.0\n",
            "\u001b[?25l  Downloading https://files.pythonhosted.org/packages/1e/e9/d3d747a97f7188f48aa5eda486907f3b345cd409f0a0850468ba867db246/tensorboard-1.15.0-py3-none-any.whl (3.8MB)\n",
            "\u001b[K     |████████████████████████████████| 3.8MB 55.3MB/s \n",
            "\u001b[?25hRequirement already satisfied: setuptools in /usr/local/lib/python3.6/dist-packages (from protobuf>=3.6.1->tensorflow==1.15) (46.0.0)\n",
            "Requirement already satisfied: h5py in /usr/local/lib/python3.6/dist-packages (from keras-applications>=1.0.8->tensorflow==1.15) (2.10.0)\n",
            "Requirement already satisfied: markdown>=2.6.8 in /usr/local/lib/python3.6/dist-packages (from tensorboard<1.16.0,>=1.15.0->tensorflow==1.15) (3.2.1)\n",
            "Requirement already satisfied: werkzeug>=0.11.15 in /usr/local/lib/python3.6/dist-packages (from tensorboard<1.16.0,>=1.15.0->tensorflow==1.15) (1.0.0)\n",
            "Building wheels for collected packages: gast\n",
            "  Building wheel for gast (setup.py) ... \u001b[?25l\u001b[?25hdone\n",
            "  Created wheel for gast: filename=gast-0.2.2-cp36-none-any.whl size=7540 sha256=93fa9f1e3777370abbea5fb313a4a303e9955a09d5ede8057adc71994b93dc6b\n",
            "  Stored in directory: /root/.cache/pip/wheels/5c/2e/7e/a1d4d4fcebe6c381f378ce7743a3ced3699feb89bcfbdadadd\n",
            "Successfully built gast\n",
            "Installing collected packages: tensorflow-estimator, gast, tensorboard, tensorflow\n",
            "  Found existing installation: tensorflow-estimator 2.2.0rc0\n",
            "    Uninstalling tensorflow-estimator-2.2.0rc0:\n",
            "      Successfully uninstalled tensorflow-estimator-2.2.0rc0\n",
            "  Found existing installation: gast 0.3.3\n",
            "    Uninstalling gast-0.3.3:\n",
            "      Successfully uninstalled gast-0.3.3\n",
            "  Found existing installation: tensorboard 2.1.1\n",
            "    Uninstalling tensorboard-2.1.1:\n",
            "      Successfully uninstalled tensorboard-2.1.1\n",
            "  Found existing installation: tensorflow 2.2.0rc1\n",
            "    Uninstalling tensorflow-2.2.0rc1:\n",
            "      Successfully uninstalled tensorflow-2.2.0rc1\n",
            "Successfully installed gast-0.2.2 tensorboard-1.15.0 tensorflow-1.15.0 tensorflow-estimator-1.15.1\n",
            "Collecting tensorflow-gpu==1.15\n",
            "\u001b[?25l  Downloading https://files.pythonhosted.org/packages/a5/ad/933140e74973fb917a194ab814785e7c23680ca5dee6d663a509fe9579b6/tensorflow_gpu-1.15.0-cp36-cp36m-manylinux2010_x86_64.whl (411.5MB)\n",
            "\u001b[K     |████████████████████████████████| 411.5MB 17kB/s \n",
            "\u001b[?25hRequirement already satisfied: astor>=0.6.0 in /usr/local/lib/python3.6/dist-packages (from tensorflow-gpu==1.15) (0.8.1)\n",
            "Requirement already satisfied: tensorboard<1.16.0,>=1.15.0 in /usr/local/lib/python3.6/dist-packages (from tensorflow-gpu==1.15) (1.15.0)\n",
            "Requirement already satisfied: wrapt>=1.11.1 in /usr/local/lib/python3.6/dist-packages (from tensorflow-gpu==1.15) (1.12.1)\n",
            "Requirement already satisfied: termcolor>=1.1.0 in /usr/local/lib/python3.6/dist-packages (from tensorflow-gpu==1.15) (1.1.0)\n",
            "Requirement already satisfied: tensorflow-estimator==1.15.1 in /usr/local/lib/python3.6/dist-packages (from tensorflow-gpu==1.15) (1.15.1)\n",
            "Requirement already satisfied: protobuf>=3.6.1 in /usr/local/lib/python3.6/dist-packages (from tensorflow-gpu==1.15) (3.10.0)\n",
            "Requirement already satisfied: gast==0.2.2 in /usr/local/lib/python3.6/dist-packages (from tensorflow-gpu==1.15) (0.2.2)\n",
            "Requirement already satisfied: google-pasta>=0.1.6 in /usr/local/lib/python3.6/dist-packages (from tensorflow-gpu==1.15) (0.2.0)\n",
            "Requirement already satisfied: opt-einsum>=2.3.2 in /usr/local/lib/python3.6/dist-packages (from tensorflow-gpu==1.15) (3.2.0)\n",
            "Requirement already satisfied: absl-py>=0.7.0 in /usr/local/lib/python3.6/dist-packages (from tensorflow-gpu==1.15) (0.9.0)\n",
            "Requirement already satisfied: six>=1.10.0 in /usr/local/lib/python3.6/dist-packages (from tensorflow-gpu==1.15) (1.12.0)\n",
            "Requirement already satisfied: keras-applications>=1.0.8 in /usr/local/lib/python3.6/dist-packages (from tensorflow-gpu==1.15) (1.0.8)\n",
            "Requirement already satisfied: grpcio>=1.8.6 in /usr/local/lib/python3.6/dist-packages (from tensorflow-gpu==1.15) (1.27.2)\n",
            "Requirement already satisfied: numpy<2.0,>=1.16.0 in /usr/local/lib/python3.6/dist-packages (from tensorflow-gpu==1.15) (1.18.2)\n",
            "Requirement already satisfied: keras-preprocessing>=1.0.5 in /usr/local/lib/python3.6/dist-packages (from tensorflow-gpu==1.15) (1.1.0)\n",
            "Requirement already satisfied: wheel>=0.26 in /usr/local/lib/python3.6/dist-packages (from tensorflow-gpu==1.15) (0.34.2)\n",
            "Requirement already satisfied: werkzeug>=0.11.15 in /usr/local/lib/python3.6/dist-packages (from tensorboard<1.16.0,>=1.15.0->tensorflow-gpu==1.15) (1.0.0)\n",
            "Requirement already satisfied: markdown>=2.6.8 in /usr/local/lib/python3.6/dist-packages (from tensorboard<1.16.0,>=1.15.0->tensorflow-gpu==1.15) (3.2.1)\n",
            "Requirement already satisfied: setuptools>=41.0.0 in /usr/local/lib/python3.6/dist-packages (from tensorboard<1.16.0,>=1.15.0->tensorflow-gpu==1.15) (46.0.0)\n",
            "Requirement already satisfied: h5py in /usr/local/lib/python3.6/dist-packages (from keras-applications>=1.0.8->tensorflow-gpu==1.15) (2.10.0)\n",
            "Installing collected packages: tensorflow-gpu\n",
            "Successfully installed tensorflow-gpu-1.15.0\n",
            "Collecting tensorflow-estimator<1.15.0rc0,>=1.14.0rc0\n",
            "\u001b[?25l  Downloading https://files.pythonhosted.org/packages/3c/d5/21860a5b11caf0678fbc8319341b0ae21a07156911132e0e71bffed0510d/tensorflow_estimator-1.14.0-py2.py3-none-any.whl (488kB)\n",
            "\u001b[K     |████████████████████████████████| 491kB 1.4MB/s \n",
            "\u001b[31mERROR: tensorflow 1.15.0 has requirement tensorflow-estimator==1.15.1, but you'll have tensorflow-estimator 1.14.0 which is incompatible.\u001b[0m\n",
            "\u001b[31mERROR: tensorflow-gpu 1.15.0 has requirement tensorflow-estimator==1.15.1, but you'll have tensorflow-estimator 1.14.0 which is incompatible.\u001b[0m\n",
            "\u001b[?25hInstalling collected packages: tensorflow-estimator\n",
            "  Found existing installation: tensorflow-estimator 1.15.1\n",
            "    Uninstalling tensorflow-estimator-1.15.1:\n",
            "      Successfully uninstalled tensorflow-estimator-1.15.1\n",
            "Successfully installed tensorflow-estimator-1.14.0\n"
          ],
          "name": "stdout"
        }
      ]
    },
    {
      "cell_type": "code",
      "metadata": {
        "id": "434oOx0bZH6J",
        "colab": {
          "base_uri": "https://localhost:8080/",
          "height": 718
        },
        "outputId": "9b7b9607-d02a-4630-eeaf-904283b77039"
      },
      "source": [
        "!pip3 install -r requirements.txt"
      ],
      "execution_count": null,
      "outputs": [
        {
          "output_type": "stream",
          "text": [
            "Collecting fire>=0.1.3\n",
            "\u001b[?25l  Downloading https://files.pythonhosted.org/packages/fa/42/6252075cbad90b9efb27b6586827779758c62fd73868a1cd0d23ebb5aac6/fire-0.3.0.tar.gz (81kB)\n",
            "\u001b[K     |████████████████████████████████| 81kB 1.5MB/s \n",
            "\u001b[?25hCollecting regex==2017.4.5\n",
            "\u001b[?25l  Downloading https://files.pythonhosted.org/packages/36/62/c0c0d762ffd4ffaf39f372eb8561b8d491a11ace5a7884610424a8b40f95/regex-2017.04.05.tar.gz (601kB)\n",
            "\u001b[K     |████████████████████████████████| 604kB 4.1MB/s \n",
            "\u001b[?25hRequirement already satisfied: requests==2.21.0 in /usr/local/lib/python3.6/dist-packages (from -r requirements.txt (line 3)) (2.21.0)\n",
            "Collecting tqdm==4.31.1\n",
            "\u001b[?25l  Downloading https://files.pythonhosted.org/packages/6c/4b/c38b5144cf167c4f52288517436ccafefe9dc01b8d1c190e18a6b154cd4a/tqdm-4.31.1-py2.py3-none-any.whl (48kB)\n",
            "\u001b[K     |████████████████████████████████| 51kB 7.8MB/s \n",
            "\u001b[?25hCollecting toposort==1.5\n",
            "  Downloading https://files.pythonhosted.org/packages/e9/8a/321cd8ea5f4a22a06e3ba30ef31ec33bea11a3443eeb1d89807640ee6ed4/toposort-1.5-py2.py3-none-any.whl\n",
            "Requirement already satisfied: six in /usr/local/lib/python3.6/dist-packages (from fire>=0.1.3->-r requirements.txt (line 1)) (1.12.0)\n",
            "Requirement already satisfied: termcolor in /usr/local/lib/python3.6/dist-packages (from fire>=0.1.3->-r requirements.txt (line 1)) (1.1.0)\n",
            "Requirement already satisfied: idna<2.9,>=2.5 in /usr/local/lib/python3.6/dist-packages (from requests==2.21.0->-r requirements.txt (line 3)) (2.8)\n",
            "Requirement already satisfied: urllib3<1.25,>=1.21.1 in /usr/local/lib/python3.6/dist-packages (from requests==2.21.0->-r requirements.txt (line 3)) (1.24.3)\n",
            "Requirement already satisfied: certifi>=2017.4.17 in /usr/local/lib/python3.6/dist-packages (from requests==2.21.0->-r requirements.txt (line 3)) (2019.11.28)\n",
            "Requirement already satisfied: chardet<3.1.0,>=3.0.2 in /usr/local/lib/python3.6/dist-packages (from requests==2.21.0->-r requirements.txt (line 3)) (3.0.4)\n",
            "Building wheels for collected packages: fire, regex\n",
            "  Building wheel for fire (setup.py) ... \u001b[?25l\u001b[?25hdone\n",
            "  Created wheel for fire: filename=fire-0.3.0-py2.py3-none-any.whl size=111108 sha256=dad9ed5aacdeb80dfb12f7bfd7bae2deab9368285150b487d7dfbb8530f06bf6\n",
            "  Stored in directory: /root/.cache/pip/wheels/92/62/79/6a40acd827ec9d78d610be311820ecf8e41db024d8b1d12ace\n",
            "  Building wheel for regex (setup.py) ... \u001b[?25l\u001b[?25hdone\n",
            "  Created wheel for regex: filename=regex-2017.4.5-cp36-cp36m-linux_x86_64.whl size=533194 sha256=ea5df0863d17b2f963a51e32fe042d68dde562f285110b88a7779eeef0ebfbb3\n",
            "  Stored in directory: /root/.cache/pip/wheels/75/07/38/3c16b529d50cb4e0cd3dbc7b75cece8a09c132692c74450b01\n",
            "Successfully built fire regex\n",
            "\u001b[31mERROR: spacy 2.2.4 has requirement tqdm<5.0.0,>=4.38.0, but you'll have tqdm 4.31.1 which is incompatible.\u001b[0m\n",
            "Installing collected packages: fire, regex, tqdm, toposort\n",
            "  Found existing installation: regex 2019.12.20\n",
            "    Uninstalling regex-2019.12.20:\n",
            "      Successfully uninstalled regex-2019.12.20\n",
            "  Found existing installation: tqdm 4.38.0\n",
            "    Uninstalling tqdm-4.38.0:\n",
            "      Successfully uninstalled tqdm-4.38.0\n",
            "Successfully installed fire-0.3.0 regex-2017.4.5 toposort-1.5 tqdm-4.31.1\n"
          ],
          "name": "stdout"
        },
        {
          "output_type": "display_data",
          "data": {
            "application/vnd.colab-display-data+json": {
              "pip_warning": {
                "packages": [
                  "tqdm"
                ]
              }
            }
          },
          "metadata": {
            "tags": []
          }
        }
      ]
    },
    {
      "cell_type": "markdown",
      "metadata": {
        "id": "WvUQhgK3PQ4L"
      },
      "source": [
        "Mount drive to access google drive for saving and accessing checkpoints later. Have to log in to your google account"
      ]
    },
    {
      "cell_type": "code",
      "metadata": {
        "id": "FNpf6R4ahYSN",
        "colab": {
          "base_uri": "https://localhost:8080/",
          "height": 122
        },
        "outputId": "caf836c4-0e4d-4671-e310-7ae46f013bd5"
      },
      "source": [
        "from google.colab import drive\n",
        "drive.mount('/content/drive')"
      ],
      "execution_count": null,
      "outputs": [
        {
          "output_type": "stream",
          "text": [
            "Go to this URL in a browser: https://accounts.google.com/o/oauth2/auth?client_id=947318989803-6bn6qk8qdgf4n4g3pfee6491hc0brc4i.apps.googleusercontent.com&redirect_uri=urn%3aietf%3awg%3aoauth%3a2.0%3aoob&response_type=code&scope=email%20https%3a%2f%2fwww.googleapis.com%2fauth%2fdocs.test%20https%3a%2f%2fwww.googleapis.com%2fauth%2fdrive%20https%3a%2f%2fwww.googleapis.com%2fauth%2fdrive.photos.readonly%20https%3a%2f%2fwww.googleapis.com%2fauth%2fpeopleapi.readonly\n",
            "\n",
            "Enter your authorization code:\n",
            "··········\n",
            "Mounted at /content/drive\n"
          ],
          "name": "stdout"
        }
      ]
    },
    {
      "cell_type": "markdown",
      "metadata": {
        "id": "o1hrgeKFYsuE"
      },
      "source": [
        "Download the model data"
      ]
    },
    {
      "cell_type": "code",
      "metadata": {
        "id": "5UDpEGjfO8Q2",
        "colab": {
          "base_uri": "https://localhost:8080/",
          "height": 136
        },
        "outputId": "591dcec6-9419-4866-a14a-22150bf84898"
      },
      "source": [
        "!python3 download_model.py 345M"
      ],
      "execution_count": null,
      "outputs": [
        {
          "output_type": "stream",
          "text": [
            "\rFetching checkpoint:   0%|                                              | 0.00/77.0 [00:00<?, ?it/s]\rFetching checkpoint: 1.00kit [00:00, 774kit/s]                                                      \n",
            "\rFetching encoder.json:   0%|                                           | 0.00/1.04M [00:00<?, ?it/s]\rFetching encoder.json: 1.04Mit [00:00, 52.0Mit/s]                                                   \n",
            "Fetching hparams.json: 1.00kit [00:00, 1.07Mit/s]                                                   \n",
            "Fetching model.ckpt.data-00000-of-00001: 1.42Git [00:18, 77.1Mit/s]                                 \n",
            "Fetching model.ckpt.index: 11.0kit [00:00, 8.41Mit/s]                                               \n",
            "Fetching model.ckpt.meta: 927kit [00:00, 64.0Mit/s]                                                 \n",
            "Fetching vocab.bpe: 457kit [00:00, 63.7Mit/s]                                                       \n"
          ],
          "name": "stdout"
        }
      ]
    },
    {
      "cell_type": "markdown",
      "metadata": {
        "id": "Zq-YwRnNOBYO"
      },
      "source": [
        "encoding"
      ]
    },
    {
      "cell_type": "code",
      "metadata": {
        "id": "7oJPQtdLbbeK"
      },
      "source": [
        "!export PYTHONIOENCODING=UTF-8"
      ],
      "execution_count": null,
      "outputs": []
    },
    {
      "cell_type": "markdown",
      "metadata": {
        "id": "0KzSbAvePgsI"
      },
      "source": [
        "Fetch checkpoints if you have them saved in google drive"
      ]
    },
    {
      "cell_type": "code",
      "metadata": {
        "id": "cA2Wk7yIPmS6"
      },
      "source": [
        "!cp -r /content/drive/My\\ Drive/checkpoint/ /content/gpt-2/ "
      ],
      "execution_count": null,
      "outputs": []
    },
    {
      "cell_type": "markdown",
      "metadata": {
        "id": "ua30ufcdbns-"
      },
      "source": [
        "Upload training text file from computer or google drive to google colab space, and move to folder gpt-2."
      ]
    },
    {
      "cell_type": "markdown",
      "metadata": {
        "id": "wl1YCGYtGzdX"
      },
      "source": [
        "#Charles Dickens text"
      ]
    },
    {
      "cell_type": "markdown",
      "metadata": {
        "id": "0p--9zwqQRTc"
      },
      "source": [
        "\n",
        "Let's get our train on! In this case the file is A Tale of Two Cities (Charles Dickens) from Project Gutenberg. To change the dataset GPT-2 models will fine-tune on, change this URL to another .txt file, and change corresponding part of the next cell. Note that you can use small datasets if you want but you will have to be sure not to run the fine-tuning for too long or you will overfit badly. Roughly, expect interesting results within minutes to hours in the 1-10s of megabyte ballpark, and below this you may want to stop the run early as fine-tuning can be very fast."
      ]
    },
    {
      "cell_type": "code",
      "metadata": {
        "id": "QOCvrs-DHvxa",
        "colab": {
          "base_uri": "https://localhost:8080/",
          "height": 208
        },
        "outputId": "3841fc5d-869c-47c1-b120-e635e2ecb241"
      },
      "source": [
        "!wget https://www.gutenberg.org/files/98/98-0.txt"
      ],
      "execution_count": null,
      "outputs": [
        {
          "output_type": "stream",
          "text": [
            "--2020-03-12 14:57:52--  https://www.gutenberg.org/files/98/98-0.txt\n",
            "Resolving www.gutenberg.org (www.gutenberg.org)... 152.19.134.47, 2610:28:3090:3000:0:bad:cafe:47\n",
            "Connecting to www.gutenberg.org (www.gutenberg.org)|152.19.134.47|:443... connected.\n",
            "HTTP request sent, awaiting response... 200 OK\n",
            "Length: 804335 (785K) [text/plain]\n",
            "Saving to: ‘98-0.txt’\n",
            "\n",
            "98-0.txt            100%[===================>] 785.48K   521KB/s    in 1.5s    \n",
            "\n",
            "2020-03-12 14:57:54 (521 KB/s) - ‘98-0.txt’ saved [804335/804335]\n",
            "\n"
          ],
          "name": "stdout"
        }
      ]
    },
    {
      "cell_type": "markdown",
      "metadata": {
        "id": "_LolDpetGpeX"
      },
      "source": [
        "#Finetuning the model"
      ]
    },
    {
      "cell_type": "markdown",
      "metadata": {
        "id": "yPfJ5b3CQXqr"
      },
      "source": [
        "\n",
        "Start training, add --model_name '345M' to use 345 model"
      ]
    },
    {
      "cell_type": "markdown",
      "metadata": {
        "id": "XDCXHMFuHQAn"
      },
      "source": [
        "**possible to change:**   \n",
        "    \n",
        "    '--restore_from', type=str, default='latest', help='Either \"latest\", \"fresh\", or a path to a checkpoint file'\n",
        "\n",
        "    '--sample_every', metavar='N', type=int, default=100, help='Generate samples every N steps'\n",
        "\n",
        "    '--model_name', metavar='MODEL', type=str, default='117M', help='Pretrained model name, change to 345M if you downloaded that one'\n",
        "\n",
        "**standard settings:**\n",
        "top_k=40\n",
        "top_p=0.0\n"
      ]
    },
    {
      "cell_type": "code",
      "metadata": {
        "id": "pEn_ihcGI00T",
        "colab": {
          "base_uri": "https://localhost:8080/",
          "height": 1000
        },
        "outputId": "5358c744-a7ac-4965-8b83-293798c53207"
      },
      "source": [
        "!PYTHONPATH=src ./train.py --dataset /content/gpt-2/honesty.txt --model_name '345M' --sample_every 2000 --restore_from \"fresh\""
      ],
      "execution_count": null,
      "outputs": [
        {
          "output_type": "stream",
          "text": [
            "WARNING:tensorflow:From /content/gpt-2/src/model.py:147: The name tf.AUTO_REUSE is deprecated. Please use tf.compat.v1.AUTO_REUSE instead.\n",
            "\n",
            "WARNING:tensorflow:\n",
            "The TensorFlow contrib module will not be included in TensorFlow 2.0.\n",
            "For more information, please see:\n",
            "  * https://github.com/tensorflow/community/blob/master/rfcs/20180907-contrib-sunset.md\n",
            "  * https://github.com/tensorflow/addons\n",
            "  * https://github.com/tensorflow/io (for I/O related ops)\n",
            "If you depend on functionality not listed there, please file an issue.\n",
            "\n",
            "WARNING:tensorflow:From /content/gpt-2/src/memory_saving_gradients.py:13: The name tf.GraphKeys is deprecated. Please use tf.compat.v1.GraphKeys instead.\n",
            "\n",
            "WARNING:tensorflow:From ./train.py:88: The name tf.ConfigProto is deprecated. Please use tf.compat.v1.ConfigProto instead.\n",
            "\n",
            "WARNING:tensorflow:From ./train.py:91: The name tf.Session is deprecated. Please use tf.compat.v1.Session instead.\n",
            "\n",
            "2020-03-27 13:49:19.255115: I tensorflow/core/platform/cpu_feature_guard.cc:142] Your CPU supports instructions that this TensorFlow binary was not compiled to use: AVX2 FMA\n",
            "2020-03-27 13:49:19.269184: I tensorflow/core/platform/profile_utils/cpu_utils.cc:94] CPU Frequency: 2300000000 Hz\n",
            "2020-03-27 13:49:19.269807: I tensorflow/compiler/xla/service/service.cc:168] XLA service 0x1320f40 initialized for platform Host (this does not guarantee that XLA will be used). Devices:\n",
            "2020-03-27 13:49:19.269879: I tensorflow/compiler/xla/service/service.cc:176]   StreamExecutor device (0): Host, Default Version\n",
            "2020-03-27 13:49:19.313204: I tensorflow/stream_executor/platform/default/dso_loader.cc:44] Successfully opened dynamic library libcuda.so.1\n",
            "2020-03-27 13:49:19.503436: I tensorflow/stream_executor/cuda/cuda_gpu_executor.cc:983] successful NUMA node read from SysFS had negative value (-1), but there must be at least one NUMA node, so returning NUMA node zero\n",
            "2020-03-27 13:49:19.504572: I tensorflow/compiler/xla/service/service.cc:168] XLA service 0x1321100 initialized for platform CUDA (this does not guarantee that XLA will be used). Devices:\n",
            "2020-03-27 13:49:19.504611: I tensorflow/compiler/xla/service/service.cc:176]   StreamExecutor device (0): Tesla K80, Compute Capability 3.7\n",
            "2020-03-27 13:49:19.505164: I tensorflow/stream_executor/cuda/cuda_gpu_executor.cc:983] successful NUMA node read from SysFS had negative value (-1), but there must be at least one NUMA node, so returning NUMA node zero\n",
            "2020-03-27 13:49:19.505915: I tensorflow/core/common_runtime/gpu/gpu_device.cc:1618] Found device 0 with properties: \n",
            "name: Tesla K80 major: 3 minor: 7 memoryClockRate(GHz): 0.8235\n",
            "pciBusID: 0000:00:04.0\n",
            "2020-03-27 13:49:19.514837: I tensorflow/stream_executor/platform/default/dso_loader.cc:44] Successfully opened dynamic library libcudart.so.10.0\n",
            "2020-03-27 13:49:19.759548: I tensorflow/stream_executor/platform/default/dso_loader.cc:44] Successfully opened dynamic library libcublas.so.10.0\n",
            "2020-03-27 13:49:19.880593: I tensorflow/stream_executor/platform/default/dso_loader.cc:44] Successfully opened dynamic library libcufft.so.10.0\n",
            "2020-03-27 13:49:19.928349: I tensorflow/stream_executor/platform/default/dso_loader.cc:44] Successfully opened dynamic library libcurand.so.10.0\n",
            "2020-03-27 13:49:20.195181: I tensorflow/stream_executor/platform/default/dso_loader.cc:44] Successfully opened dynamic library libcusolver.so.10.0\n",
            "2020-03-27 13:49:20.374793: I tensorflow/stream_executor/platform/default/dso_loader.cc:44] Successfully opened dynamic library libcusparse.so.10.0\n",
            "2020-03-27 13:49:21.235317: I tensorflow/stream_executor/platform/default/dso_loader.cc:44] Successfully opened dynamic library libcudnn.so.7\n",
            "2020-03-27 13:49:21.235618: I tensorflow/stream_executor/cuda/cuda_gpu_executor.cc:983] successful NUMA node read from SysFS had negative value (-1), but there must be at least one NUMA node, so returning NUMA node zero\n",
            "2020-03-27 13:49:21.236789: I tensorflow/stream_executor/cuda/cuda_gpu_executor.cc:983] successful NUMA node read from SysFS had negative value (-1), but there must be at least one NUMA node, so returning NUMA node zero\n",
            "2020-03-27 13:49:21.237484: I tensorflow/core/common_runtime/gpu/gpu_device.cc:1746] Adding visible gpu devices: 0\n",
            "2020-03-27 13:49:21.242720: I tensorflow/stream_executor/platform/default/dso_loader.cc:44] Successfully opened dynamic library libcudart.so.10.0\n",
            "2020-03-27 13:49:21.244640: I tensorflow/core/common_runtime/gpu/gpu_device.cc:1159] Device interconnect StreamExecutor with strength 1 edge matrix:\n",
            "2020-03-27 13:49:21.244677: I tensorflow/core/common_runtime/gpu/gpu_device.cc:1165]      0 \n",
            "2020-03-27 13:49:21.244692: I tensorflow/core/common_runtime/gpu/gpu_device.cc:1178] 0:   N \n",
            "2020-03-27 13:49:21.246088: I tensorflow/stream_executor/cuda/cuda_gpu_executor.cc:983] successful NUMA node read from SysFS had negative value (-1), but there must be at least one NUMA node, so returning NUMA node zero\n",
            "2020-03-27 13:49:21.246918: I tensorflow/stream_executor/cuda/cuda_gpu_executor.cc:983] successful NUMA node read from SysFS had negative value (-1), but there must be at least one NUMA node, so returning NUMA node zero\n",
            "2020-03-27 13:49:21.247667: I tensorflow/core/common_runtime/gpu/gpu_device.cc:1304] Created TensorFlow device (/job:localhost/replica:0/task:0/device:GPU:0 with 10805 MB memory) -> physical GPU (device: 0, name: Tesla K80, pci bus id: 0000:00:04.0, compute capability: 3.7)\n",
            "WARNING:tensorflow:From ./train.py:92: The name tf.placeholder is deprecated. Please use tf.compat.v1.placeholder instead.\n",
            "\n",
            "WARNING:tensorflow:From /content/gpt-2/src/model.py:148: The name tf.variable_scope is deprecated. Please use tf.compat.v1.variable_scope instead.\n",
            "\n",
            "WARNING:tensorflow:From /content/gpt-2/src/model.py:152: The name tf.get_variable is deprecated. Please use tf.compat.v1.get_variable instead.\n",
            "\n",
            "WARNING:tensorflow:From /content/gpt-2/src/model.py:36: The name tf.rsqrt is deprecated. Please use tf.math.rsqrt instead.\n",
            "\n",
            "WARNING:tensorflow:From /content/gpt-2/src/model.py:166: The name tf.add_to_collection is deprecated. Please use tf.compat.v1.add_to_collection instead.\n",
            "\n",
            "WARNING:tensorflow:From /content/gpt-2/src/sample.py:65: to_float (from tensorflow.python.ops.math_ops) is deprecated and will be removed in a future version.\n",
            "Instructions for updating:\n",
            "Use `tf.cast` instead.\n",
            "WARNING:tensorflow:From /content/gpt-2/src/sample.py:16: where (from tensorflow.python.ops.array_ops) is deprecated and will be removed in a future version.\n",
            "Instructions for updating:\n",
            "Use tf.where in 2.0, which has the same broadcast rule as np.where\n",
            "WARNING:tensorflow:From /content/gpt-2/src/sample.py:70: multinomial (from tensorflow.python.ops.random_ops) is deprecated and will be removed in a future version.\n",
            "Instructions for updating:\n",
            "Use `tf.random.categorical` instead.\n",
            "WARNING:tensorflow:From ./train.py:117: The name tf.trainable_variables is deprecated. Please use tf.compat.v1.trainable_variables instead.\n",
            "\n",
            "WARNING:tensorflow:From ./train.py:121: The name tf.train.AdamOptimizer is deprecated. Please use tf.compat.v1.train.AdamOptimizer instead.\n",
            "\n",
            "WARNING:tensorflow:From /content/gpt-2/src/memory_saving_gradients.py:62: get_backward_walk_ops (from tensorflow.contrib.graph_editor.select) is deprecated and will be removed after 2019-06-06.\n",
            "Instructions for updating:\n",
            "Please use tensorflow.python.ops.op_selector.get_backward_walk_ops.\n",
            "WARNING:tensorflow:From /content/gpt-2/src/memory_saving_gradients.py:89: The name tf.get_collection is deprecated. Please use tf.compat.v1.get_collection instead.\n",
            "\n",
            "WARNING:tensorflow:From ./train.py:144: The name tf.summary.scalar is deprecated. Please use tf.compat.v1.summary.scalar instead.\n",
            "\n",
            "WARNING:tensorflow:From ./train.py:147: The name tf.summary.merge is deprecated. Please use tf.compat.v1.summary.merge instead.\n",
            "\n",
            "WARNING:tensorflow:From ./train.py:149: The name tf.summary.FileWriter is deprecated. Please use tf.compat.v1.summary.FileWriter instead.\n",
            "\n",
            "WARNING:tensorflow:From ./train.py:152: The name tf.train.Saver is deprecated. Please use tf.compat.v1.train.Saver instead.\n",
            "\n",
            "WARNING:tensorflow:From ./train.py:156: The name tf.global_variables_initializer is deprecated. Please use tf.compat.v1.global_variables_initializer instead.\n",
            "\n",
            "Loading checkpoint models/345M/model.ckpt\n",
            "Loading dataset...\n",
            "100% 1/1 [00:02<00:00,  2.24s/it]\n",
            "dataset has 537266 tokens\n",
            "Training...\n",
            "2020-03-27 13:51:07.203408: I tensorflow/stream_executor/platform/default/dso_loader.cc:44] Successfully opened dynamic library libcublas.so.10.0\n",
            "[7001 | 16.36] loss=0.09 avg=0.09\n",
            "[7002 | 19.33] loss=0.04 avg=0.07\n",
            "[7003 | 22.31] loss=0.03 avg=0.05\n",
            "[7004 | 25.28] loss=0.02 avg=0.05\n",
            "[7005 | 28.25] loss=0.01 avg=0.04\n",
            "[7006 | 31.22] loss=0.01 avg=0.03\n",
            "[7007 | 34.21] loss=0.00 avg=0.03\n",
            "[7008 | 37.18] loss=0.00 avg=0.03\n",
            "[7009 | 40.17] loss=0.00 avg=0.02\n",
            "[7010 | 43.16] loss=0.00 avg=0.02\n",
            "[7011 | 46.15] loss=0.00 avg=0.02\n",
            "[7012 | 49.14] loss=0.00 avg=0.02\n",
            "[7013 | 52.14] loss=0.00 avg=0.02\n",
            "[7014 | 55.13] loss=0.00 avg=0.01\n",
            "[7015 | 58.14] loss=0.00 avg=0.01\n",
            "[7016 | 61.15] loss=0.00 avg=0.01\n",
            "[7017 | 64.18] loss=0.00 avg=0.01\n",
            "[7018 | 67.19] loss=0.00 avg=0.01\n",
            "[7019 | 70.21] loss=0.00 avg=0.01\n",
            "[7020 | 73.23] loss=0.00 avg=0.01\n",
            "[7021 | 76.25] loss=3.03 avg=0.17\n",
            "[7022 | 79.26] loss=0.00 avg=0.16\n",
            "[7023 | 82.27] loss=0.00 avg=0.15\n",
            "[7024 | 85.29] loss=0.00 avg=0.15\n",
            "[7025 | 88.30] loss=0.00 avg=0.14\n",
            "[7026 | 91.33] loss=0.00 avg=0.13\n",
            "[7027 | 94.36] loss=0.00 avg=0.13\n",
            "[7028 | 97.36] loss=0.00 avg=0.12\n",
            "[7029 | 100.39] loss=0.00 avg=0.12\n",
            "[7030 | 103.42] loss=0.00 avg=0.11\n",
            "[7031 | 106.45] loss=0.00 avg=0.11\n",
            "[7032 | 109.48] loss=0.00 avg=0.10\n",
            "[7033 | 112.52] loss=0.00 avg=0.10\n",
            "[7034 | 115.54] loss=0.00 avg=0.10\n",
            "[7035 | 118.56] loss=0.00 avg=0.09\n",
            "[7036 | 121.59] loss=0.00 avg=0.09\n",
            "[7037 | 124.62] loss=0.00 avg=0.09\n",
            "[7038 | 127.64] loss=0.00 avg=0.09\n",
            "[7039 | 130.67] loss=0.00 avg=0.08\n",
            "[7040 | 133.70] loss=0.00 avg=0.08\n",
            "[7041 | 136.73] loss=0.00 avg=0.08\n",
            "[7042 | 139.74] loss=0.00 avg=0.08\n",
            "[7043 | 142.76] loss=0.00 avg=0.07\n",
            "[7044 | 145.78] loss=0.00 avg=0.07\n",
            "[7045 | 148.79] loss=0.00 avg=0.07\n",
            "[7046 | 151.80] loss=0.00 avg=0.07\n",
            "[7047 | 154.82] loss=0.00 avg=0.07\n",
            "[7048 | 157.83] loss=0.00 avg=0.06\n",
            "[7049 | 160.85] loss=0.00 avg=0.06\n",
            "[7050 | 163.87] loss=0.00 avg=0.06\n",
            "[7051 | 166.88] loss=0.00 avg=0.06\n",
            "[7052 | 169.91] loss=0.00 avg=0.06\n",
            "[7053 | 172.92] loss=0.00 avg=0.06\n",
            "[7054 | 175.96] loss=0.00 avg=0.05\n",
            "[7055 | 178.97] loss=0.00 avg=0.05\n",
            "[7056 | 182.00] loss=0.00 avg=0.05\n",
            "[7057 | 185.02] loss=0.00 avg=0.05\n",
            "[7058 | 188.05] loss=0.00 avg=0.05\n",
            "[7059 | 191.08] loss=0.00 avg=0.05\n",
            "[7060 | 194.09] loss=0.00 avg=0.05\n",
            "[7061 | 197.12] loss=0.00 avg=0.05\n",
            "[7062 | 200.13] loss=0.00 avg=0.05\n",
            "[7063 | 203.15] loss=0.00 avg=0.04\n",
            "[7064 | 206.17] loss=0.00 avg=0.04\n",
            "[7065 | 209.18] loss=0.00 avg=0.04\n",
            "[7066 | 212.20] loss=0.00 avg=0.04\n",
            "[7067 | 215.21] loss=0.00 avg=0.04\n",
            "[7068 | 218.22] loss=0.00 avg=0.04\n",
            "[7069 | 221.23] loss=0.00 avg=0.04\n",
            "[7070 | 224.25] loss=0.00 avg=0.04\n",
            "[7071 | 227.29] loss=0.00 avg=0.04\n",
            "[7072 | 230.31] loss=0.00 avg=0.04\n",
            "[7073 | 233.34] loss=0.00 avg=0.04\n",
            "[7074 | 236.36] loss=0.00 avg=0.04\n",
            "[7075 | 239.39] loss=0.00 avg=0.04\n",
            "[7076 | 242.42] loss=0.00 avg=0.03\n",
            "[7077 | 245.44] loss=0.00 avg=0.03\n",
            "[7078 | 248.47] loss=0.00 avg=0.03\n",
            "[7079 | 251.49] loss=0.00 avg=0.03\n",
            "[7080 | 254.52] loss=0.00 avg=0.03\n",
            "[7081 | 257.54] loss=0.00 avg=0.03\n",
            "[7082 | 260.57] loss=0.00 avg=0.03\n",
            "[7083 | 263.58] loss=0.00 avg=0.03\n",
            "[7084 | 266.60] loss=0.00 avg=0.03\n",
            "[7085 | 269.62] loss=0.00 avg=0.03\n",
            "[7086 | 272.65] loss=0.00 avg=0.03\n",
            "[7087 | 275.67] loss=0.00 avg=0.03\n",
            "[7088 | 278.70] loss=0.00 avg=0.03\n",
            "[7089 | 281.72] loss=0.00 avg=0.03\n",
            "[7090 | 284.74] loss=0.00 avg=0.03\n",
            "[7091 | 287.75] loss=0.00 avg=0.03\n",
            "[7092 | 290.76] loss=0.00 avg=0.03\n",
            "[7093 | 293.78] loss=0.00 avg=0.03\n",
            "[7094 | 296.79] loss=0.00 avg=0.03\n",
            "[7095 | 299.81] loss=0.00 avg=0.02\n",
            "[7096 | 302.82] loss=0.00 avg=0.02\n",
            "[7097 | 305.84] loss=0.00 avg=0.02\n",
            "[7098 | 308.85] loss=0.00 avg=0.02\n",
            "[7099 | 311.86] loss=0.00 avg=0.02\n",
            "[7100 | 314.87] loss=0.00 avg=0.02\n",
            "[7101 | 317.89] loss=0.00 avg=0.02\n",
            "[7102 | 320.91] loss=0.00 avg=0.02\n",
            "[7103 | 323.92] loss=0.00 avg=0.02\n",
            "[7104 | 326.94] loss=0.00 avg=0.02\n",
            "[7105 | 329.95] loss=0.00 avg=0.02\n",
            "[7106 | 332.96] loss=0.00 avg=0.02\n",
            "[7107 | 335.98] loss=0.00 avg=0.02\n",
            "[7108 | 338.99] loss=0.00 avg=0.02\n",
            "[7109 | 342.01] loss=0.00 avg=0.02\n",
            "[7110 | 345.03] loss=0.00 avg=0.02\n",
            "[7111 | 348.05] loss=0.00 avg=0.02\n",
            "[7112 | 351.07] loss=0.00 avg=0.02\n",
            "[7113 | 354.07] loss=0.00 avg=0.02\n",
            "[7114 | 357.10] loss=0.00 avg=0.02\n",
            "[7115 | 360.13] loss=0.00 avg=0.02\n",
            "[7116 | 363.15] loss=0.00 avg=0.02\n",
            "[7117 | 366.18] loss=0.00 avg=0.02\n",
            "[7118 | 369.20] loss=0.00 avg=0.02\n",
            "[7119 | 372.24] loss=0.00 avg=0.02\n",
            "[7120 | 375.26] loss=0.00 avg=0.02\n",
            "[7121 | 378.28] loss=0.00 avg=0.02\n",
            "[7122 | 381.30] loss=0.00 avg=0.02\n",
            "[7123 | 384.32] loss=0.00 avg=0.02\n",
            "[7124 | 387.35] loss=0.00 avg=0.02\n",
            "[7125 | 390.37] loss=0.00 avg=0.02\n",
            "[7126 | 393.39] loss=0.00 avg=0.02\n",
            "[7127 | 396.41] loss=0.00 avg=0.02\n",
            "[7128 | 399.43] loss=0.00 avg=0.02\n",
            "[7129 | 402.45] loss=0.00 avg=0.01\n",
            "[7130 | 405.49] loss=0.00 avg=0.01\n",
            "[7131 | 408.51] loss=0.00 avg=0.01\n",
            "[7132 | 411.53] loss=0.00 avg=0.01\n",
            "[7133 | 414.54] loss=0.00 avg=0.01\n",
            "[7134 | 417.56] loss=0.00 avg=0.01\n",
            "[7135 | 420.58] loss=0.00 avg=0.01\n",
            "[7136 | 423.59] loss=0.00 avg=0.01\n",
            "[7137 | 426.61] loss=0.00 avg=0.01\n",
            "[7138 | 429.63] loss=0.00 avg=0.01\n",
            "[7139 | 432.66] loss=0.00 avg=0.01\n",
            "[7140 | 435.69] loss=0.00 avg=0.01\n",
            "[7141 | 438.71] loss=0.00 avg=0.01\n",
            "[7142 | 441.73] loss=0.00 avg=0.01\n",
            "[7143 | 444.76] loss=0.00 avg=0.01\n",
            "[7144 | 447.79] loss=0.00 avg=0.01\n",
            "[7145 | 450.81] loss=0.00 avg=0.01\n",
            "[7146 | 453.83] loss=0.00 avg=0.01\n",
            "[7147 | 456.84] loss=0.00 avg=0.01\n",
            "[7148 | 459.86] loss=0.00 avg=0.01\n",
            "[7149 | 462.88] loss=0.00 avg=0.01\n",
            "[7150 | 465.90] loss=0.00 avg=0.01\n",
            "[7151 | 468.92] loss=0.00 avg=0.01\n",
            "[7152 | 471.95] loss=0.00 avg=0.01\n",
            "[7153 | 474.98] loss=0.00 avg=0.01\n",
            "[7154 | 478.00] loss=0.00 avg=0.01\n",
            "[7155 | 481.02] loss=0.00 avg=0.01\n",
            "[7156 | 484.03] loss=0.00 avg=0.01\n",
            "[7157 | 487.06] loss=0.00 avg=0.01\n",
            "[7158 | 490.09] loss=0.00 avg=0.01\n",
            "[7159 | 493.12] loss=0.00 avg=0.01\n",
            "[7160 | 496.13] loss=0.00 avg=0.01\n",
            "[7161 | 499.15] loss=0.00 avg=0.01\n",
            "[7162 | 502.16] loss=0.00 avg=0.01\n",
            "[7163 | 505.18] loss=0.00 avg=0.01\n",
            "[7164 | 508.20] loss=0.00 avg=0.01\n",
            "[7165 | 511.21] loss=0.00 avg=0.01\n",
            "[7166 | 514.22] loss=0.00 avg=0.01\n",
            "[7167 | 517.24] loss=0.00 avg=0.01\n",
            "[7168 | 520.25] loss=0.00 avg=0.01\n",
            "[7169 | 523.27] loss=0.00 avg=0.01\n",
            "[7170 | 526.28] loss=0.00 avg=0.01\n",
            "[7171 | 529.29] loss=0.00 avg=0.01\n",
            "[7172 | 532.31] loss=0.00 avg=0.01\n",
            "[7173 | 535.33] loss=0.00 avg=0.01\n",
            "[7174 | 538.34] loss=0.00 avg=0.01\n",
            "[7175 | 541.35] loss=0.00 avg=0.01\n",
            "[7176 | 544.36] loss=0.00 avg=0.01\n",
            "[7177 | 547.38] loss=0.00 avg=0.01\n",
            "[7178 | 550.39] loss=0.00 avg=0.01\n",
            "[7179 | 553.40] loss=0.00 avg=0.01\n",
            "[7180 | 556.41] loss=0.00 avg=0.01\n",
            "[7181 | 559.43] loss=0.00 avg=0.01\n",
            "[7182 | 562.45] loss=0.00 avg=0.01\n",
            "[7183 | 565.46] loss=0.00 avg=0.01\n",
            "[7184 | 568.50] loss=0.00 avg=0.01\n",
            "[7185 | 571.53] loss=0.00 avg=0.01\n",
            "[7186 | 574.55] loss=0.00 avg=0.01\n",
            "[7187 | 577.57] loss=0.00 avg=0.01\n",
            "[7188 | 580.59] loss=0.00 avg=0.01\n",
            "[7189 | 583.61] loss=0.00 avg=0.01\n",
            "[7190 | 586.64] loss=0.00 avg=0.01\n",
            "[7191 | 589.67] loss=2.77 avg=0.04\n",
            "[7192 | 592.69] loss=0.00 avg=0.04\n",
            "[7193 | 595.71] loss=0.00 avg=0.04\n",
            "[7194 | 598.72] loss=0.00 avg=0.04\n",
            "[7195 | 601.74] loss=0.00 avg=0.04\n",
            "[7196 | 604.77] loss=0.00 avg=0.04\n",
            "[7197 | 607.78] loss=0.00 avg=0.04\n",
            "[7198 | 610.80] loss=0.00 avg=0.04\n",
            "[7199 | 613.81] loss=0.00 avg=0.04\n",
            "[7200 | 616.84] loss=0.00 avg=0.04\n",
            "[7201 | 619.86] loss=0.00 avg=0.03\n",
            "[7202 | 622.88] loss=0.00 avg=0.03\n",
            "[7203 | 625.90] loss=0.00 avg=0.03\n",
            "[7204 | 628.91] loss=0.00 avg=0.03\n",
            "[7205 | 631.93] loss=0.00 avg=0.03\n",
            "[7206 | 634.95] loss=0.00 avg=0.03\n",
            "[7207 | 637.97] loss=0.00 avg=0.03\n",
            "[7208 | 641.00] loss=0.00 avg=0.03\n",
            "[7209 | 644.03] loss=0.00 avg=0.03\n",
            "[7210 | 647.06] loss=0.00 avg=0.03\n",
            "[7211 | 650.09] loss=0.00 avg=0.03\n",
            "[7212 | 653.10] loss=0.00 avg=0.03\n",
            "[7213 | 656.11] loss=0.00 avg=0.03\n",
            "[7214 | 659.13] loss=0.00 avg=0.03\n",
            "[7215 | 662.15] loss=0.00 avg=0.03\n",
            "[7216 | 665.17] loss=0.00 avg=0.03\n",
            "[7217 | 668.20] loss=0.00 avg=0.03\n",
            "[7218 | 671.22] loss=0.00 avg=0.03\n",
            "[7219 | 674.25] loss=0.00 avg=0.03\n",
            "[7220 | 677.28] loss=0.00 avg=0.03\n",
            "[7221 | 680.30] loss=0.00 avg=0.03\n",
            "[7222 | 683.32] loss=0.00 avg=0.03\n",
            "[7223 | 686.34] loss=0.00 avg=0.03\n",
            "[7224 | 689.35] loss=0.00 avg=0.03\n",
            "[7225 | 692.38] loss=0.00 avg=0.03\n",
            "[7226 | 695.40] loss=0.00 avg=0.03\n",
            "[7227 | 698.41] loss=0.00 avg=0.03\n",
            "[7228 | 701.42] loss=0.00 avg=0.03\n",
            "[7229 | 704.44] loss=0.00 avg=0.03\n",
            "[7230 | 707.47] loss=0.00 avg=0.03\n",
            "[7231 | 710.49] loss=0.00 avg=0.02\n",
            "[7232 | 713.51] loss=0.00 avg=0.02\n",
            "[7233 | 716.54] loss=0.00 avg=0.02\n",
            "[7234 | 719.56] loss=0.00 avg=0.02\n",
            "[7235 | 722.58] loss=0.00 avg=0.02\n",
            "[7236 | 725.60] loss=0.00 avg=0.02\n",
            "[7237 | 728.63] loss=3.06 avg=0.06\n",
            "[7238 | 731.64] loss=0.00 avg=0.06\n",
            "[7239 | 734.66] loss=0.00 avg=0.06\n",
            "[7240 | 737.67] loss=0.00 avg=0.06\n",
            "[7241 | 740.69] loss=0.00 avg=0.05\n",
            "[7242 | 743.71] loss=0.00 avg=0.05\n",
            "[7243 | 746.72] loss=0.00 avg=0.05\n",
            "[7244 | 749.73] loss=0.00 avg=0.05\n",
            "[7245 | 752.74] loss=0.00 avg=0.05\n",
            "[7246 | 755.76] loss=0.00 avg=0.05\n",
            "[7247 | 758.78] loss=0.00 avg=0.05\n",
            "[7248 | 761.79] loss=0.00 avg=0.05\n",
            "[7249 | 764.80] loss=0.00 avg=0.05\n",
            "[7250 | 767.82] loss=0.00 avg=0.05\n",
            "[7251 | 770.84] loss=0.00 avg=0.05\n",
            "[7252 | 773.86] loss=0.00 avg=0.05\n",
            "[7253 | 776.89] loss=0.00 avg=0.05\n",
            "[7254 | 779.91] loss=0.00 avg=0.05\n",
            "[7255 | 782.95] loss=0.00 avg=0.05\n",
            "[7256 | 785.97] loss=0.00 avg=0.05\n",
            "[7257 | 789.00] loss=0.00 avg=0.05\n",
            "[7258 | 792.03] loss=0.00 avg=0.05\n",
            "[7259 | 795.05] loss=0.00 avg=0.04\n",
            "[7260 | 798.08] loss=0.00 avg=0.04\n",
            "[7261 | 801.11] loss=0.00 avg=0.04\n",
            "[7262 | 804.14] loss=0.00 avg=0.04\n",
            "[7263 | 807.16] loss=0.00 avg=0.04\n",
            "[7264 | 810.18] loss=0.00 avg=0.04\n",
            "[7265 | 813.21] loss=0.00 avg=0.04\n",
            "[7266 | 816.24] loss=0.00 avg=0.04\n",
            "[7267 | 819.25] loss=0.00 avg=0.04\n",
            "[7268 | 822.27] loss=0.00 avg=0.04\n",
            "[7269 | 825.29] loss=0.00 avg=0.04\n",
            "[7270 | 828.31] loss=0.00 avg=0.04\n",
            "[7271 | 831.35] loss=0.00 avg=0.04\n",
            "[7272 | 834.36] loss=0.00 avg=0.04\n",
            "[7273 | 837.39] loss=3.27 avg=0.07\n",
            "[7274 | 840.42] loss=0.00 avg=0.07\n",
            "[7275 | 843.44] loss=0.00 avg=0.07\n",
            "[7276 | 846.46] loss=0.00 avg=0.07\n",
            "[7277 | 849.49] loss=0.00 avg=0.07\n",
            "[7278 | 852.52] loss=0.00 avg=0.07\n",
            "[7279 | 855.53] loss=0.00 avg=0.07\n",
            "[7280 | 858.55] loss=0.00 avg=0.07\n",
            "[7281 | 861.56] loss=0.00 avg=0.07\n",
            "[7282 | 864.58] loss=0.00 avg=0.07\n",
            "[7283 | 867.59] loss=0.00 avg=0.07\n",
            "[7284 | 870.60] loss=0.00 avg=0.07\n",
            "[7285 | 873.62] loss=0.00 avg=0.06\n",
            "[7286 | 876.63] loss=0.00 avg=0.06\n",
            "[7287 | 879.64] loss=0.00 avg=0.06\n",
            "[7288 | 882.66] loss=0.00 avg=0.06\n",
            "[7289 | 885.67] loss=0.00 avg=0.06\n",
            "[7290 | 888.69] loss=0.00 avg=0.06\n",
            "[7291 | 891.71] loss=0.00 avg=0.06\n",
            "[7292 | 894.72] loss=0.00 avg=0.06\n",
            "[7293 | 897.74] loss=0.00 avg=0.06\n",
            "[7294 | 900.76] loss=0.00 avg=0.06\n",
            "[7295 | 903.80] loss=0.00 avg=0.06\n",
            "[7296 | 906.83] loss=0.00 avg=0.06\n",
            "[7297 | 909.85] loss=0.00 avg=0.06\n",
            "[7298 | 912.87] loss=0.00 avg=0.06\n",
            "[7299 | 915.89] loss=0.00 avg=0.06\n",
            "[7300 | 918.92] loss=0.00 avg=0.06\n",
            "[7301 | 921.95] loss=0.00 avg=0.05\n",
            "[7302 | 924.96] loss=0.00 avg=0.05\n",
            "[7303 | 927.97] loss=0.00 avg=0.05\n",
            "[7304 | 930.99] loss=0.00 avg=0.05\n",
            "[7305 | 934.01] loss=0.00 avg=0.05\n",
            "[7306 | 937.02] loss=0.00 avg=0.05\n",
            "[7307 | 940.03] loss=0.00 avg=0.05\n",
            "[7308 | 943.05] loss=0.00 avg=0.05\n",
            "[7309 | 946.06] loss=0.00 avg=0.05\n",
            "[7310 | 949.08] loss=0.00 avg=0.05\n",
            "[7311 | 952.09] loss=0.00 avg=0.05\n",
            "[7312 | 955.11] loss=0.00 avg=0.05\n",
            "[7313 | 958.12] loss=0.00 avg=0.05\n",
            "[7314 | 961.14] loss=0.00 avg=0.05\n",
            "[7315 | 964.17] loss=0.00 avg=0.05\n",
            "[7316 | 967.19] loss=0.00 avg=0.05\n",
            "[7317 | 970.20] loss=0.00 avg=0.05\n",
            "[7318 | 973.22] loss=0.00 avg=0.05\n",
            "[7319 | 976.25] loss=0.00 avg=0.05\n",
            "[7320 | 979.27] loss=0.00 avg=0.04\n",
            "[7321 | 982.29] loss=0.00 avg=0.04\n",
            "[7322 | 985.31] loss=0.00 avg=0.04\n",
            "[7323 | 988.35] loss=0.00 avg=0.04\n",
            "[7324 | 991.37] loss=0.00 avg=0.04\n",
            "[7325 | 994.39] loss=0.00 avg=0.04\n",
            "[7326 | 997.40] loss=0.00 avg=0.04\n",
            "[7327 | 1000.41] loss=0.00 avg=0.04\n",
            "[7328 | 1003.43] loss=0.00 avg=0.04\n",
            "[7329 | 1006.45] loss=0.00 avg=0.04\n",
            "[7330 | 1009.45] loss=0.00 avg=0.04\n",
            "[7331 | 1012.47] loss=0.00 avg=0.04\n",
            "[7332 | 1015.48] loss=0.00 avg=0.04\n",
            "[7333 | 1018.50] loss=0.00 avg=0.04\n",
            "[7334 | 1021.52] loss=0.00 avg=0.04\n",
            "[7335 | 1024.56] loss=0.00 avg=0.04\n",
            "[7336 | 1027.58] loss=0.00 avg=0.04\n",
            "[7337 | 1030.60] loss=0.00 avg=0.04\n",
            "[7338 | 1033.62] loss=0.00 avg=0.04\n",
            "[7339 | 1036.64] loss=0.00 avg=0.04\n",
            "[7340 | 1039.66] loss=0.00 avg=0.04\n",
            "[7341 | 1042.70] loss=0.00 avg=0.04\n",
            "[7342 | 1045.72] loss=0.00 avg=0.04\n",
            "[7343 | 1048.74] loss=0.00 avg=0.04\n",
            "[7344 | 1051.77] loss=0.00 avg=0.03\n",
            "[7345 | 1054.78] loss=0.00 avg=0.03\n",
            "[7346 | 1057.80] loss=0.00 avg=0.03\n",
            "[7347 | 1060.83] loss=0.00 avg=0.03\n",
            "[7348 | 1063.86] loss=0.00 avg=0.03\n",
            "[7349 | 1066.88] loss=0.00 avg=0.03\n",
            "[7350 | 1069.90] loss=0.00 avg=0.03\n",
            "[7351 | 1072.92] loss=0.00 avg=0.03\n",
            "[7352 | 1075.94] loss=0.00 avg=0.03\n",
            "[7353 | 1078.97] loss=0.00 avg=0.03\n",
            "[7354 | 1081.99] loss=0.00 avg=0.03\n",
            "[7355 | 1085.01] loss=0.00 avg=0.03\n",
            "[7356 | 1088.03] loss=0.00 avg=0.03\n",
            "[7357 | 1091.04] loss=0.00 avg=0.03\n",
            "[7358 | 1094.06] loss=0.00 avg=0.03\n",
            "[7359 | 1097.07] loss=0.00 avg=0.03\n",
            "[7360 | 1100.10] loss=0.00 avg=0.03\n",
            "[7361 | 1103.12] loss=0.00 avg=0.03\n",
            "[7362 | 1106.13] loss=0.00 avg=0.03\n",
            "[7363 | 1109.14] loss=0.00 avg=0.03\n",
            "[7364 | 1112.17] loss=0.00 avg=0.03\n",
            "[7365 | 1115.20] loss=0.00 avg=0.03\n",
            "[7366 | 1118.22] loss=0.00 avg=0.03\n",
            "[7367 | 1121.24] loss=0.00 avg=0.03\n",
            "[7368 | 1124.26] loss=0.00 avg=0.03\n",
            "[7369 | 1127.28] loss=0.00 avg=0.03\n",
            "[7370 | 1130.31] loss=0.00 avg=0.03\n",
            "[7371 | 1133.35] loss=0.00 avg=0.03\n",
            "[7372 | 1136.36] loss=0.00 avg=0.03\n",
            "[7373 | 1139.38] loss=0.00 avg=0.03\n",
            "[7374 | 1142.40] loss=0.00 avg=0.03\n",
            "[7375 | 1145.41] loss=0.00 avg=0.03\n",
            "[7376 | 1148.44] loss=0.00 avg=0.02\n",
            "[7377 | 1151.46] loss=0.00 avg=0.02\n",
            "[7378 | 1154.49] loss=0.00 avg=0.02\n",
            "[7379 | 1157.51] loss=0.00 avg=0.02\n",
            "[7380 | 1160.53] loss=0.00 avg=0.02\n",
            "[7381 | 1163.55] loss=0.00 avg=0.02\n",
            "[7382 | 1166.57] loss=0.00 avg=0.02\n",
            "[7383 | 1169.60] loss=0.00 avg=0.02\n",
            "[7384 | 1172.63] loss=0.00 avg=0.02\n",
            "[7385 | 1175.65] loss=0.00 avg=0.02\n",
            "[7386 | 1178.67] loss=0.00 avg=0.02\n",
            "[7387 | 1181.69] loss=0.00 avg=0.02\n",
            "[7388 | 1184.70] loss=0.00 avg=0.02\n",
            "[7389 | 1187.71] loss=0.00 avg=0.02\n",
            "[7390 | 1190.73] loss=0.00 avg=0.02\n",
            "[7391 | 1193.75] loss=0.00 avg=0.02\n",
            "[7392 | 1196.75] loss=0.00 avg=0.02\n",
            "[7393 | 1199.77] loss=0.00 avg=0.02\n",
            "[7394 | 1202.78] loss=0.00 avg=0.02\n",
            "[7395 | 1205.79] loss=0.00 avg=0.02\n",
            "[7396 | 1208.81] loss=0.00 avg=0.02\n",
            "[7397 | 1211.83] loss=0.00 avg=0.02\n",
            "[7398 | 1214.84] loss=0.00 avg=0.02\n",
            "[7399 | 1217.85] loss=0.00 avg=0.02\n",
            "[7400 | 1220.87] loss=0.00 avg=0.02\n",
            "[7401 | 1223.88] loss=0.00 avg=0.02\n",
            "[7402 | 1226.89] loss=0.00 avg=0.02\n",
            "[7403 | 1229.91] loss=0.00 avg=0.02\n",
            "[7404 | 1232.93] loss=0.00 avg=0.02\n",
            "[7405 | 1235.95] loss=0.00 avg=0.02\n",
            "[7406 | 1238.98] loss=0.00 avg=0.02\n",
            "[7407 | 1242.00] loss=0.00 avg=0.02\n",
            "[7408 | 1245.02] loss=0.00 avg=0.02\n",
            "[7409 | 1248.04] loss=0.00 avg=0.02\n",
            "[7410 | 1251.07] loss=0.00 avg=0.02\n",
            "[7411 | 1254.10] loss=0.00 avg=0.02\n",
            "[7412 | 1257.13] loss=0.00 avg=0.02\n",
            "[7413 | 1260.15] loss=0.00 avg=0.02\n",
            "[7414 | 1263.17] loss=0.00 avg=0.02\n",
            "[7415 | 1266.19] loss=0.00 avg=0.02\n",
            "[7416 | 1269.21] loss=0.00 avg=0.02\n",
            "[7417 | 1272.23] loss=0.00 avg=0.02\n",
            "[7418 | 1275.26] loss=0.00 avg=0.02\n",
            "[7419 | 1278.28] loss=0.00 avg=0.02\n",
            "[7420 | 1281.31] loss=0.00 avg=0.02\n",
            "[7421 | 1284.34] loss=0.00 avg=0.02\n",
            "[7422 | 1287.35] loss=0.00 avg=0.02\n",
            "[7423 | 1290.38] loss=0.00 avg=0.02\n",
            "[7424 | 1293.41] loss=0.00 avg=0.02\n",
            "[7425 | 1296.42] loss=0.00 avg=0.02\n",
            "[7426 | 1299.44] loss=0.00 avg=0.01\n",
            "[7427 | 1302.45] loss=0.00 avg=0.01\n",
            "[7428 | 1305.47] loss=0.00 avg=0.01\n",
            "[7429 | 1308.49] loss=0.00 avg=0.01\n",
            "[7430 | 1311.51] loss=0.00 avg=0.01\n",
            "[7431 | 1314.52] loss=0.00 avg=0.01\n",
            "[7432 | 1317.53] loss=0.00 avg=0.01\n",
            "[7433 | 1320.55] loss=0.00 avg=0.01\n",
            "[7434 | 1323.58] loss=0.00 avg=0.01\n",
            "[7435 | 1326.60] loss=0.00 avg=0.01\n",
            "[7436 | 1329.62] loss=0.00 avg=0.01\n",
            "[7437 | 1332.64] loss=0.00 avg=0.01\n",
            "[7438 | 1335.67] loss=0.00 avg=0.01\n",
            "[7439 | 1338.69] loss=0.00 avg=0.01\n",
            "[7440 | 1341.72] loss=0.00 avg=0.01\n",
            "[7441 | 1344.75] loss=0.00 avg=0.01\n",
            "[7442 | 1347.77] loss=0.00 avg=0.01\n",
            "[7443 | 1350.78] loss=0.00 avg=0.01\n",
            "[7444 | 1353.80] loss=0.00 avg=0.01\n",
            "[7445 | 1356.81] loss=0.00 avg=0.01\n",
            "[7446 | 1359.82] loss=0.00 avg=0.01\n",
            "[7447 | 1362.84] loss=0.00 avg=0.01\n",
            "[7448 | 1365.86] loss=0.00 avg=0.01\n",
            "[7449 | 1368.87] loss=0.00 avg=0.01\n",
            "[7450 | 1371.88] loss=0.00 avg=0.01\n",
            "[7451 | 1374.90] loss=2.85 avg=0.04\n",
            "[7452 | 1377.92] loss=0.00 avg=0.04\n",
            "[7453 | 1380.92] loss=0.00 avg=0.04\n",
            "[7454 | 1383.94] loss=0.00 avg=0.04\n",
            "[7455 | 1386.96] loss=0.00 avg=0.04\n",
            "[7456 | 1389.97] loss=0.00 avg=0.04\n",
            "[7457 | 1392.98] loss=0.00 avg=0.04\n",
            "[7458 | 1396.00] loss=0.00 avg=0.04\n",
            "[7459 | 1399.01] loss=0.00 avg=0.04\n",
            "[7460 | 1402.03] loss=0.00 avg=0.04\n",
            "[7461 | 1405.05] loss=0.00 avg=0.04\n",
            "[7462 | 1408.06] loss=0.00 avg=0.04\n",
            "[7463 | 1411.08] loss=0.00 avg=0.04\n",
            "[7464 | 1414.10] loss=0.00 avg=0.04\n",
            "[7465 | 1417.11] loss=0.00 avg=0.04\n",
            "[7466 | 1420.12] loss=0.00 avg=0.03\n",
            "[7467 | 1423.13] loss=0.00 avg=0.03\n",
            "[7468 | 1426.15] loss=0.00 avg=0.03\n",
            "[7469 | 1429.16] loss=0.00 avg=0.03\n",
            "[7470 | 1432.18] loss=0.00 avg=0.03\n",
            "[7471 | 1435.19] loss=0.00 avg=0.03\n",
            "[7472 | 1438.20] loss=0.00 avg=0.03\n",
            "[7473 | 1441.21] loss=0.00 avg=0.03\n",
            "[7474 | 1444.22] loss=0.00 avg=0.03\n",
            "[7475 | 1447.23] loss=0.00 avg=0.03\n",
            "[7476 | 1450.25] loss=0.00 avg=0.03\n",
            "[7477 | 1453.27] loss=0.00 avg=0.03\n",
            "[7478 | 1456.29] loss=0.00 avg=0.03\n",
            "[7479 | 1459.30] loss=0.00 avg=0.03\n",
            "[7480 | 1462.31] loss=0.00 avg=0.03\n",
            "[7481 | 1465.32] loss=0.00 avg=0.03\n",
            "[7482 | 1468.34] loss=0.00 avg=0.03\n",
            "[7483 | 1471.35] loss=0.00 avg=0.03\n",
            "[7484 | 1474.37] loss=0.00 avg=0.03\n",
            "[7485 | 1477.39] loss=0.00 avg=0.03\n",
            "[7486 | 1480.41] loss=0.00 avg=0.03\n",
            "[7487 | 1483.43] loss=0.00 avg=0.03\n",
            "[7488 | 1486.44] loss=0.00 avg=0.03\n",
            "[7489 | 1489.46] loss=0.00 avg=0.03\n",
            "[7490 | 1492.49] loss=0.00 avg=0.03\n",
            "[7491 | 1495.51] loss=0.00 avg=0.03\n",
            "[7492 | 1498.53] loss=0.00 avg=0.03\n",
            "[7493 | 1501.54] loss=0.00 avg=0.03\n",
            "[7494 | 1504.56] loss=0.00 avg=0.03\n",
            "[7495 | 1507.58] loss=0.00 avg=0.03\n",
            "[7496 | 1510.60] loss=0.00 avg=0.03\n",
            "[7497 | 1513.62] loss=0.00 avg=0.03\n",
            "[7498 | 1516.63] loss=0.00 avg=0.03\n",
            "[7499 | 1519.65] loss=0.00 avg=0.02\n",
            "[7500 | 1522.68] loss=0.00 avg=0.02\n",
            "interrupted\n",
            "Saving checkpoint/run1/model-7501\n"
          ],
          "name": "stdout"
        }
      ]
    },
    {
      "cell_type": "markdown",
      "metadata": {
        "id": "vS1RJJDFOPnb"
      },
      "source": [
        "Save our checkpoints to start training again later"
      ]
    },
    {
      "cell_type": "code",
      "metadata": {
        "id": "JretqG1zOXdi"
      },
      "source": [
        "!cp -r /content/gpt-2/checkpoint/ /content/drive/My\\ Drive/"
      ],
      "execution_count": null,
      "outputs": []
    },
    {
      "cell_type": "markdown",
      "metadata": {
        "id": "SES7I9kqJGqc"
      },
      "source": [
        "#Loading finetuned model\n",
        "\n"
      ]
    },
    {
      "cell_type": "markdown",
      "metadata": {
        "id": "6D-i7vERWbNS"
      },
      "source": [
        "Load your trained model for use in sampling below (117M or 345M)"
      ]
    },
    {
      "cell_type": "code",
      "metadata": {
        "id": "VeETvWvrbKga"
      },
      "source": [
        "#!cp -r /content/gpt-2/checkpoint/run1/* /content/gpt-2/models/117M/"
      ],
      "execution_count": null,
      "outputs": []
    },
    {
      "cell_type": "code",
      "metadata": {
        "id": "np0r6qfXBeUX"
      },
      "source": [
        "!cp -r /content/gpt-2/checkpoint/run1/* /content/gpt-2/models/345M/"
      ],
      "execution_count": null,
      "outputs": []
    },
    {
      "cell_type": "markdown",
      "metadata": {
        "id": "GmnSrXqtfRbq"
      },
      "source": [
        "Generate conditional samples from the model given a prompt you provide -  change top-k hyperparameter if desired (default is 40),  if you're using 345M, add \"--model-name 345M\"\n",
        "\n"
      ]
    },
    {
      "cell_type": "markdown",
      "metadata": {
        "id": "NtRKsqtwrgml"
      },
      "source": [
        "# Conditional Sampling"
      ]
    },
    {
      "cell_type": "code",
      "metadata": {
        "id": "UvlQQrdzEOtv"
      },
      "source": [
        "!python3 src/interactive_conditional_samples.py --top_k 40 --model_name \"345M\""
      ],
      "execution_count": null,
      "outputs": []
    },
    {
      "cell_type": "code",
      "metadata": {
        "id": "88BcIQ_4_MfM",
        "colab": {
          "base_uri": "https://localhost:8080/",
          "height": 1000
        },
        "outputId": "7d0472df-efed-4eb5-d0a8-d4156dd89f22"
      },
      "source": [
        "!python3 src/interactive_conditional_samples.py --top_k 40 --temperature=1 --length=200 --model_name \"345M\""
      ],
      "execution_count": null,
      "outputs": [
        {
          "output_type": "stream",
          "text": [
            "WARNING:tensorflow:From /content/gpt-2/src/model.py:147: The name tf.AUTO_REUSE is deprecated. Please use tf.compat.v1.AUTO_REUSE instead.\n",
            "\n",
            "WARNING:tensorflow:From src/interactive_conditional_samples.py:55: The name tf.Session is deprecated. Please use tf.compat.v1.Session instead.\n",
            "\n",
            "2020-03-12 15:01:02.043769: I tensorflow/stream_executor/platform/default/dso_loader.cc:44] Successfully opened dynamic library libcuda.so.1\n",
            "2020-03-12 15:01:02.083214: I tensorflow/stream_executor/cuda/cuda_gpu_executor.cc:983] successful NUMA node read from SysFS had negative value (-1), but there must be at least one NUMA node, so returning NUMA node zero\n",
            "2020-03-12 15:01:02.084391: I tensorflow/core/common_runtime/gpu/gpu_device.cc:1618] Found device 0 with properties: \n",
            "name: Tesla K80 major: 3 minor: 7 memoryClockRate(GHz): 0.8235\n",
            "pciBusID: 0000:00:04.0\n",
            "2020-03-12 15:01:02.128060: I tensorflow/stream_executor/platform/default/dso_loader.cc:44] Successfully opened dynamic library libcudart.so.10.1\n",
            "2020-03-12 15:01:02.415279: I tensorflow/stream_executor/platform/default/dso_loader.cc:44] Successfully opened dynamic library libcublas.so.10\n",
            "2020-03-12 15:01:02.570313: I tensorflow/stream_executor/platform/default/dso_loader.cc:44] Successfully opened dynamic library libcufft.so.10\n",
            "2020-03-12 15:01:02.600854: I tensorflow/stream_executor/platform/default/dso_loader.cc:44] Successfully opened dynamic library libcurand.so.10\n",
            "2020-03-12 15:01:02.899637: I tensorflow/stream_executor/platform/default/dso_loader.cc:44] Successfully opened dynamic library libcusolver.so.10\n",
            "2020-03-12 15:01:02.923093: I tensorflow/stream_executor/platform/default/dso_loader.cc:44] Successfully opened dynamic library libcusparse.so.10\n",
            "2020-03-12 15:01:03.451015: I tensorflow/stream_executor/platform/default/dso_loader.cc:44] Successfully opened dynamic library libcudnn.so.7\n",
            "2020-03-12 15:01:03.451253: I tensorflow/stream_executor/cuda/cuda_gpu_executor.cc:983] successful NUMA node read from SysFS had negative value (-1), but there must be at least one NUMA node, so returning NUMA node zero\n",
            "2020-03-12 15:01:03.452095: I tensorflow/stream_executor/cuda/cuda_gpu_executor.cc:983] successful NUMA node read from SysFS had negative value (-1), but there must be at least one NUMA node, so returning NUMA node zero\n",
            "2020-03-12 15:01:03.452791: I tensorflow/core/common_runtime/gpu/gpu_device.cc:1746] Adding visible gpu devices: 0\n",
            "2020-03-12 15:01:03.466302: I tensorflow/core/platform/profile_utils/cpu_utils.cc:94] CPU Frequency: 2300000000 Hz\n",
            "2020-03-12 15:01:03.468637: I tensorflow/compiler/xla/service/service.cc:168] XLA service 0x16db100 initialized for platform Host (this does not guarantee that XLA will be used). Devices:\n",
            "2020-03-12 15:01:03.468671: I tensorflow/compiler/xla/service/service.cc:176]   StreamExecutor device (0): Host, Default Version\n",
            "2020-03-12 15:01:03.634036: I tensorflow/stream_executor/cuda/cuda_gpu_executor.cc:983] successful NUMA node read from SysFS had negative value (-1), but there must be at least one NUMA node, so returning NUMA node zero\n",
            "2020-03-12 15:01:03.634864: I tensorflow/compiler/xla/service/service.cc:168] XLA service 0x16db2c0 initialized for platform CUDA (this does not guarantee that XLA will be used). Devices:\n",
            "2020-03-12 15:01:03.634893: I tensorflow/compiler/xla/service/service.cc:176]   StreamExecutor device (0): Tesla K80, Compute Capability 3.7\n",
            "2020-03-12 15:01:03.636336: I tensorflow/stream_executor/cuda/cuda_gpu_executor.cc:983] successful NUMA node read from SysFS had negative value (-1), but there must be at least one NUMA node, so returning NUMA node zero\n",
            "2020-03-12 15:01:03.637064: I tensorflow/core/common_runtime/gpu/gpu_device.cc:1618] Found device 0 with properties: \n",
            "name: Tesla K80 major: 3 minor: 7 memoryClockRate(GHz): 0.8235\n",
            "pciBusID: 0000:00:04.0\n",
            "2020-03-12 15:01:03.637131: I tensorflow/stream_executor/platform/default/dso_loader.cc:44] Successfully opened dynamic library libcudart.so.10.1\n",
            "2020-03-12 15:01:03.637165: I tensorflow/stream_executor/platform/default/dso_loader.cc:44] Successfully opened dynamic library libcublas.so.10\n",
            "2020-03-12 15:01:03.637191: I tensorflow/stream_executor/platform/default/dso_loader.cc:44] Successfully opened dynamic library libcufft.so.10\n",
            "2020-03-12 15:01:03.637220: I tensorflow/stream_executor/platform/default/dso_loader.cc:44] Successfully opened dynamic library libcurand.so.10\n",
            "2020-03-12 15:01:03.637244: I tensorflow/stream_executor/platform/default/dso_loader.cc:44] Successfully opened dynamic library libcusolver.so.10\n",
            "2020-03-12 15:01:03.637268: I tensorflow/stream_executor/platform/default/dso_loader.cc:44] Successfully opened dynamic library libcusparse.so.10\n",
            "2020-03-12 15:01:03.637294: I tensorflow/stream_executor/platform/default/dso_loader.cc:44] Successfully opened dynamic library libcudnn.so.7\n",
            "2020-03-12 15:01:03.637387: I tensorflow/stream_executor/cuda/cuda_gpu_executor.cc:983] successful NUMA node read from SysFS had negative value (-1), but there must be at least one NUMA node, so returning NUMA node zero\n",
            "2020-03-12 15:01:03.638131: I tensorflow/stream_executor/cuda/cuda_gpu_executor.cc:983] successful NUMA node read from SysFS had negative value (-1), but there must be at least one NUMA node, so returning NUMA node zero\n",
            "2020-03-12 15:01:03.638825: I tensorflow/core/common_runtime/gpu/gpu_device.cc:1746] Adding visible gpu devices: 0\n",
            "2020-03-12 15:01:03.643111: I tensorflow/stream_executor/platform/default/dso_loader.cc:44] Successfully opened dynamic library libcudart.so.10.1\n",
            "2020-03-12 15:01:03.644949: I tensorflow/core/common_runtime/gpu/gpu_device.cc:1159] Device interconnect StreamExecutor with strength 1 edge matrix:\n",
            "2020-03-12 15:01:03.644984: I tensorflow/core/common_runtime/gpu/gpu_device.cc:1165]      0 \n",
            "2020-03-12 15:01:03.644998: I tensorflow/core/common_runtime/gpu/gpu_device.cc:1178] 0:   N \n",
            "2020-03-12 15:01:03.646929: I tensorflow/stream_executor/cuda/cuda_gpu_executor.cc:983] successful NUMA node read from SysFS had negative value (-1), but there must be at least one NUMA node, so returning NUMA node zero\n",
            "2020-03-12 15:01:03.647697: I tensorflow/stream_executor/cuda/cuda_gpu_executor.cc:983] successful NUMA node read from SysFS had negative value (-1), but there must be at least one NUMA node, so returning NUMA node zero\n",
            "2020-03-12 15:01:03.648453: W tensorflow/core/common_runtime/gpu/gpu_bfc_allocator.cc:39] Overriding allow_growth setting because the TF_FORCE_GPU_ALLOW_GROWTH environment variable is set. Original config value was 0.\n",
            "2020-03-12 15:01:03.648548: I tensorflow/core/common_runtime/gpu/gpu_device.cc:1304] Created TensorFlow device (/job:localhost/replica:0/task:0/device:GPU:0 with 10805 MB memory) -> physical GPU (device: 0, name: Tesla K80, pci bus id: 0000:00:04.0, compute capability: 3.7)\n",
            "WARNING:tensorflow:From src/interactive_conditional_samples.py:56: The name tf.placeholder is deprecated. Please use tf.compat.v1.placeholder instead.\n",
            "\n",
            "WARNING:tensorflow:From src/interactive_conditional_samples.py:58: The name tf.set_random_seed is deprecated. Please use tf.compat.v1.set_random_seed instead.\n",
            "\n",
            "WARNING:tensorflow:From /content/gpt-2/src/model.py:148: The name tf.variable_scope is deprecated. Please use tf.compat.v1.variable_scope instead.\n",
            "\n",
            "WARNING:tensorflow:From /content/gpt-2/src/model.py:152: The name tf.get_variable is deprecated. Please use tf.compat.v1.get_variable instead.\n",
            "\n",
            "WARNING:tensorflow:From /content/gpt-2/src/model.py:36: The name tf.rsqrt is deprecated. Please use tf.math.rsqrt instead.\n",
            "\n",
            "WARNING:tensorflow:From /content/gpt-2/src/model.py:166: The name tf.add_to_collection is deprecated. Please use tf.compat.v1.add_to_collection instead.\n",
            "\n",
            "WARNING:tensorflow:From /content/gpt-2/src/sample.py:65: to_float (from tensorflow.python.ops.math_ops) is deprecated and will be removed in a future version.\n",
            "Instructions for updating:\n",
            "Use `tf.cast` instead.\n",
            "WARNING:tensorflow:From /content/gpt-2/src/sample.py:70: multinomial (from tensorflow.python.ops.random_ops) is deprecated and will be removed in a future version.\n",
            "Instructions for updating:\n",
            "Use `tf.random.categorical` instead.\n",
            "WARNING:tensorflow:From src/interactive_conditional_samples.py:66: The name tf.train.Saver is deprecated. Please use tf.compat.v1.train.Saver instead.\n",
            "\n",
            "Model prompt >>> But outer Space, At least this far, For all the fuss\n",
            "2020-03-12 15:03:46.106775: I tensorflow/stream_executor/platform/default/dso_loader.cc:44] Successfully opened dynamic library libcublas.so.10\n",
            "======================================== SAMPLE 1 ========================================\n",
            " of shores And time would seem To grow traitors like legs\n",
            "I dreamed of an airship coming a-landing, And boys and girls all gray\n",
            "Began to rise, bind our gardens with their belts\n",
            "And set to work at weaving baskets for us\n",
            "Mystifying tales were told\n",
            "Of intergalactic gardeners\n",
            "Before the first soil had been sewed\n",
            "And before the first sunstone turned\n",
            "\n",
            "Of time, its relationship to Land and Matter, if any, had been\n",
            "Conveyed eerth10\n",
            "Even to Parsons Sincere dialect seems to say \"Oh, well, particles made their assertion\"\n",
            "\n",
            "\n",
            "\n",
            "\n",
            "\n",
            "Bitterness is assiduous\n",
            "She tunes a lure among the stones\n",
            "That caresses the ear of man.\n",
            "\n",
            "\n",
            "\n",
            "\n",
            "\n",
            "Live and let live, pity the talents, it stirs\n",
            "Pity her age -- it saps her.\n",
            "\n",
            "\n",
            "\n",
            "\n",
            "\n",
            "VII.\n",
            "\n",
            "She caught my eye when she lowered.\n",
            "\n",
            "================================================================================\n",
            "Model prompt >>> The great Overdog That heavenly beast\n",
            "======================================== SAMPLE 1 ========================================\n",
            " am I then, --\n",
            "    Suffering among sheep?\n",
            "    Hunted by tigers and bears?\n",
            "    Cut off from all civilized love?\n",
            "    Twisted, petrified by Death?\n",
            "\n",
            "\n",
            "    EVIL'S BEGGAR\n",
            "\n",
            "    Only misery, misery, exists--\n",
            "    Not sense--not bliss--persons--energy\n",
            "\n",
            "\n",
            "    Who is it that satiates\n",
            "    Kings and glories--inanimate\n",
            "    --with futile labor--evil\n",
            "    --destiny--impossibility\n",
            "    Vainly raging, fanciful, until my plan\n",
            "    Was pricked with a fork?\n",
            "    It was my spouse--such a bliss\n",
            "    Hard to sustain--any stone\n",
            "    --But in this the torture short--\n",
            "    Oh, misery! I should have such days\n",
            "================================================================================\n",
            "Model prompt >>> "
          ],
          "name": "stdout"
        }
      ]
    },
    {
      "cell_type": "markdown",
      "metadata": {
        "id": "LeDhY97XMDXn"
      },
      "source": [
        "To check flag descriptions, use:"
      ]
    },
    {
      "cell_type": "code",
      "metadata": {
        "id": "pBaj2L_KMAgb"
      },
      "source": [
        "!python3 src/interactive_conditional_samples.py -- --help"
      ],
      "execution_count": null,
      "outputs": []
    },
    {
      "cell_type": "markdown",
      "metadata": {
        "id": "VR7upgoVruLD"
      },
      "source": [
        "# Unconditional Sample Generation code "
      ]
    },
    {
      "cell_type": "markdown",
      "metadata": {
        "id": "K8rSqkGxg5OK"
      },
      "source": [
        "Generate unconditional samples from the model,  if you're using 345M, add \"--model-name 345M\"\n"
      ]
    },
    {
      "cell_type": "code",
      "metadata": {
        "id": "LaQUEnRxWc3c",
        "colab": {
          "base_uri": "https://localhost:8080/",
          "height": 1000
        },
        "outputId": "3af61982-af88-4f9b-d448-a68a41eceb55"
      },
      "source": [
        "!python3 src/generate_unconditional_samples.py --nsamples=1 --model_name \"345M\" | tee /tmp/samples > H_generated_samples.txt"
      ],
      "execution_count": null,
      "outputs": [
        {
          "output_type": "stream",
          "text": [
            "WARNING:tensorflow:From /content/gpt-2/src/model.py:147: The name tf.AUTO_REUSE is deprecated. Please use tf.compat.v1.AUTO_REUSE instead.\n",
            "\n",
            "WARNING:tensorflow:From src/generate_unconditional_samples.py:52: The name tf.Session is deprecated. Please use tf.compat.v1.Session instead.\n",
            "\n",
            "2020-03-29 15:30:14.448489: I tensorflow/stream_executor/platform/default/dso_loader.cc:44] Successfully opened dynamic library libcuda.so.1\n",
            "2020-03-29 15:30:14.486461: I tensorflow/stream_executor/cuda/cuda_gpu_executor.cc:983] successful NUMA node read from SysFS had negative value (-1), but there must be at least one NUMA node, so returning NUMA node zero\n",
            "2020-03-29 15:30:14.487075: I tensorflow/core/common_runtime/gpu/gpu_device.cc:1618] Found device 0 with properties: \n",
            "name: Tesla P100-PCIE-16GB major: 6 minor: 0 memoryClockRate(GHz): 1.3285\n",
            "pciBusID: 0000:00:04.0\n",
            "2020-03-29 15:30:14.496101: I tensorflow/stream_executor/platform/default/dso_loader.cc:44] Successfully opened dynamic library libcudart.so.10.0\n",
            "2020-03-29 15:30:14.707957: I tensorflow/stream_executor/platform/default/dso_loader.cc:44] Successfully opened dynamic library libcublas.so.10.0\n",
            "2020-03-29 15:30:14.812480: I tensorflow/stream_executor/platform/default/dso_loader.cc:44] Successfully opened dynamic library libcufft.so.10.0\n",
            "2020-03-29 15:30:14.837512: I tensorflow/stream_executor/platform/default/dso_loader.cc:44] Successfully opened dynamic library libcurand.so.10.0\n",
            "2020-03-29 15:30:15.074924: I tensorflow/stream_executor/platform/default/dso_loader.cc:44] Successfully opened dynamic library libcusolver.so.10.0\n",
            "2020-03-29 15:30:15.206188: I tensorflow/stream_executor/platform/default/dso_loader.cc:44] Successfully opened dynamic library libcusparse.so.10.0\n",
            "2020-03-29 15:30:15.711376: I tensorflow/stream_executor/platform/default/dso_loader.cc:44] Successfully opened dynamic library libcudnn.so.7\n",
            "2020-03-29 15:30:15.711613: I tensorflow/stream_executor/cuda/cuda_gpu_executor.cc:983] successful NUMA node read from SysFS had negative value (-1), but there must be at least one NUMA node, so returning NUMA node zero\n",
            "2020-03-29 15:30:15.712396: I tensorflow/stream_executor/cuda/cuda_gpu_executor.cc:983] successful NUMA node read from SysFS had negative value (-1), but there must be at least one NUMA node, so returning NUMA node zero\n",
            "2020-03-29 15:30:15.712912: I tensorflow/core/common_runtime/gpu/gpu_device.cc:1746] Adding visible gpu devices: 0\n",
            "2020-03-29 15:30:15.713540: I tensorflow/core/platform/cpu_feature_guard.cc:142] Your CPU supports instructions that this TensorFlow binary was not compiled to use: AVX2 FMA\n",
            "2020-03-29 15:30:15.731887: I tensorflow/core/platform/profile_utils/cpu_utils.cc:94] CPU Frequency: 2300000000 Hz\n",
            "2020-03-29 15:30:15.732334: I tensorflow/compiler/xla/service/service.cc:168] XLA service 0x225d800 initialized for platform Host (this does not guarantee that XLA will be used). Devices:\n",
            "2020-03-29 15:30:15.732368: I tensorflow/compiler/xla/service/service.cc:176]   StreamExecutor device (0): Host, Default Version\n",
            "2020-03-29 15:30:15.915194: I tensorflow/stream_executor/cuda/cuda_gpu_executor.cc:983] successful NUMA node read from SysFS had negative value (-1), but there must be at least one NUMA node, so returning NUMA node zero\n",
            "2020-03-29 15:30:15.915851: I tensorflow/compiler/xla/service/service.cc:168] XLA service 0x225d9c0 initialized for platform CUDA (this does not guarantee that XLA will be used). Devices:\n",
            "2020-03-29 15:30:15.915883: I tensorflow/compiler/xla/service/service.cc:176]   StreamExecutor device (0): Tesla P100-PCIE-16GB, Compute Capability 6.0\n",
            "2020-03-29 15:30:15.916855: I tensorflow/stream_executor/cuda/cuda_gpu_executor.cc:983] successful NUMA node read from SysFS had negative value (-1), but there must be at least one NUMA node, so returning NUMA node zero\n",
            "2020-03-29 15:30:15.917427: I tensorflow/core/common_runtime/gpu/gpu_device.cc:1618] Found device 0 with properties: \n",
            "name: Tesla P100-PCIE-16GB major: 6 minor: 0 memoryClockRate(GHz): 1.3285\n",
            "pciBusID: 0000:00:04.0\n",
            "2020-03-29 15:30:15.917523: I tensorflow/stream_executor/platform/default/dso_loader.cc:44] Successfully opened dynamic library libcudart.so.10.0\n",
            "2020-03-29 15:30:15.917552: I tensorflow/stream_executor/platform/default/dso_loader.cc:44] Successfully opened dynamic library libcublas.so.10.0\n",
            "2020-03-29 15:30:15.917577: I tensorflow/stream_executor/platform/default/dso_loader.cc:44] Successfully opened dynamic library libcufft.so.10.0\n",
            "2020-03-29 15:30:15.917599: I tensorflow/stream_executor/platform/default/dso_loader.cc:44] Successfully opened dynamic library libcurand.so.10.0\n",
            "2020-03-29 15:30:15.917619: I tensorflow/stream_executor/platform/default/dso_loader.cc:44] Successfully opened dynamic library libcusolver.so.10.0\n",
            "2020-03-29 15:30:15.917643: I tensorflow/stream_executor/platform/default/dso_loader.cc:44] Successfully opened dynamic library libcusparse.so.10.0\n",
            "2020-03-29 15:30:15.917667: I tensorflow/stream_executor/platform/default/dso_loader.cc:44] Successfully opened dynamic library libcudnn.so.7\n",
            "2020-03-29 15:30:15.917760: I tensorflow/stream_executor/cuda/cuda_gpu_executor.cc:983] successful NUMA node read from SysFS had negative value (-1), but there must be at least one NUMA node, so returning NUMA node zero\n",
            "2020-03-29 15:30:15.918335: I tensorflow/stream_executor/cuda/cuda_gpu_executor.cc:983] successful NUMA node read from SysFS had negative value (-1), but there must be at least one NUMA node, so returning NUMA node zero\n",
            "2020-03-29 15:30:15.918809: I tensorflow/core/common_runtime/gpu/gpu_device.cc:1746] Adding visible gpu devices: 0\n",
            "2020-03-29 15:30:15.922368: I tensorflow/stream_executor/platform/default/dso_loader.cc:44] Successfully opened dynamic library libcudart.so.10.0\n",
            "2020-03-29 15:30:15.923694: I tensorflow/core/common_runtime/gpu/gpu_device.cc:1159] Device interconnect StreamExecutor with strength 1 edge matrix:\n",
            "2020-03-29 15:30:15.923723: I tensorflow/core/common_runtime/gpu/gpu_device.cc:1165]      0 \n",
            "2020-03-29 15:30:15.923751: I tensorflow/core/common_runtime/gpu/gpu_device.cc:1178] 0:   N \n",
            "2020-03-29 15:30:15.924785: I tensorflow/stream_executor/cuda/cuda_gpu_executor.cc:983] successful NUMA node read from SysFS had negative value (-1), but there must be at least one NUMA node, so returning NUMA node zero\n",
            "2020-03-29 15:30:15.925488: I tensorflow/stream_executor/cuda/cuda_gpu_executor.cc:983] successful NUMA node read from SysFS had negative value (-1), but there must be at least one NUMA node, so returning NUMA node zero\n",
            "2020-03-29 15:30:15.926108: W tensorflow/core/common_runtime/gpu/gpu_bfc_allocator.cc:39] Overriding allow_growth setting because the TF_FORCE_GPU_ALLOW_GROWTH environment variable is set. Original config value was 0.\n",
            "2020-03-29 15:30:15.926152: I tensorflow/core/common_runtime/gpu/gpu_device.cc:1304] Created TensorFlow device (/job:localhost/replica:0/task:0/device:GPU:0 with 15216 MB memory) -> physical GPU (device: 0, name: Tesla P100-PCIE-16GB, pci bus id: 0000:00:04.0, compute capability: 6.0)\n",
            "WARNING:tensorflow:From src/generate_unconditional_samples.py:54: The name tf.set_random_seed is deprecated. Please use tf.compat.v1.set_random_seed instead.\n",
            "\n",
            "WARNING:tensorflow:From /content/gpt-2/src/model.py:148: The name tf.variable_scope is deprecated. Please use tf.compat.v1.variable_scope instead.\n",
            "\n",
            "WARNING:tensorflow:From /content/gpt-2/src/model.py:152: The name tf.get_variable is deprecated. Please use tf.compat.v1.get_variable instead.\n",
            "\n",
            "WARNING:tensorflow:From /content/gpt-2/src/model.py:36: The name tf.rsqrt is deprecated. Please use tf.math.rsqrt instead.\n",
            "\n",
            "WARNING:tensorflow:From /content/gpt-2/src/model.py:166: The name tf.add_to_collection is deprecated. Please use tf.compat.v1.add_to_collection instead.\n",
            "\n",
            "WARNING:tensorflow:From /content/gpt-2/src/sample.py:65: to_float (from tensorflow.python.ops.math_ops) is deprecated and will be removed in a future version.\n",
            "Instructions for updating:\n",
            "Use `tf.cast` instead.\n",
            "WARNING:tensorflow:From /content/gpt-2/src/sample.py:70: multinomial (from tensorflow.python.ops.random_ops) is deprecated and will be removed in a future version.\n",
            "Instructions for updating:\n",
            "Use `tf.random.categorical` instead.\n",
            "WARNING:tensorflow:From src/generate_unconditional_samples.py:63: The name tf.train.Saver is deprecated. Please use tf.compat.v1.train.Saver instead.\n",
            "\n",
            "2020-03-29 15:31:10.761864: I tensorflow/stream_executor/platform/default/dso_loader.cc:44] Successfully opened dynamic library libcublas.so.10.0\n"
          ],
          "name": "stdout"
        }
      ]
    },
    {
      "cell_type": "code",
      "metadata": {
        "id": "jtJFYKSnqdek"
      },
      "source": [
        "files.download('H_generated_samples.txt')  "
      ],
      "execution_count": null,
      "outputs": []
    },
    {
      "cell_type": "code",
      "metadata": {
        "id": "5qZK2aK7bbjs",
        "colab": {
          "base_uri": "https://localhost:8080/",
          "height": 1000
        },
        "outputId": "623ec6d1-bc38-4309-d0a1-ced1576645d1"
      },
      "source": [
        "# don't use !python3 src/generate_unconditional_samples.py --nsamples=50 --top_k=40 --temperature=1 --model_name \"345M\" | tee /tmp/samples > DH_generated_samples_2.txt"
      ],
      "execution_count": null,
      "outputs": [
        {
          "output_type": "stream",
          "text": [
            "WARNING:tensorflow:From /content/gpt-2/src/model.py:147: The name tf.AUTO_REUSE is deprecated. Please use tf.compat.v1.AUTO_REUSE instead.\n",
            "\n",
            "WARNING:tensorflow:From src/generate_unconditional_samples.py:52: The name tf.Session is deprecated. Please use tf.compat.v1.Session instead.\n",
            "\n",
            "2020-03-25 10:14:35.357692: I tensorflow/stream_executor/platform/default/dso_loader.cc:44] Successfully opened dynamic library libcuda.so.1\n",
            "2020-03-25 10:14:35.392790: I tensorflow/stream_executor/cuda/cuda_gpu_executor.cc:983] successful NUMA node read from SysFS had negative value (-1), but there must be at least one NUMA node, so returning NUMA node zero\n",
            "2020-03-25 10:14:35.393317: I tensorflow/core/common_runtime/gpu/gpu_device.cc:1618] Found device 0 with properties: \n",
            "name: Tesla T4 major: 7 minor: 5 memoryClockRate(GHz): 1.59\n",
            "pciBusID: 0000:00:04.0\n",
            "2020-03-25 10:14:35.393618: I tensorflow/stream_executor/platform/default/dso_loader.cc:44] Successfully opened dynamic library libcudart.so.10.0\n",
            "2020-03-25 10:14:35.394773: I tensorflow/stream_executor/platform/default/dso_loader.cc:44] Successfully opened dynamic library libcublas.so.10.0\n",
            "2020-03-25 10:14:35.395882: I tensorflow/stream_executor/platform/default/dso_loader.cc:44] Successfully opened dynamic library libcufft.so.10.0\n",
            "2020-03-25 10:14:35.396266: I tensorflow/stream_executor/platform/default/dso_loader.cc:44] Successfully opened dynamic library libcurand.so.10.0\n",
            "2020-03-25 10:14:35.397634: I tensorflow/stream_executor/platform/default/dso_loader.cc:44] Successfully opened dynamic library libcusolver.so.10.0\n",
            "2020-03-25 10:14:35.398623: I tensorflow/stream_executor/platform/default/dso_loader.cc:44] Successfully opened dynamic library libcusparse.so.10.0\n",
            "2020-03-25 10:14:35.401724: I tensorflow/stream_executor/platform/default/dso_loader.cc:44] Successfully opened dynamic library libcudnn.so.7\n",
            "2020-03-25 10:14:35.401849: I tensorflow/stream_executor/cuda/cuda_gpu_executor.cc:983] successful NUMA node read from SysFS had negative value (-1), but there must be at least one NUMA node, so returning NUMA node zero\n",
            "2020-03-25 10:14:35.402394: I tensorflow/stream_executor/cuda/cuda_gpu_executor.cc:983] successful NUMA node read from SysFS had negative value (-1), but there must be at least one NUMA node, so returning NUMA node zero\n",
            "2020-03-25 10:14:35.402910: I tensorflow/core/common_runtime/gpu/gpu_device.cc:1746] Adding visible gpu devices: 0\n",
            "2020-03-25 10:14:35.403257: I tensorflow/core/platform/cpu_feature_guard.cc:142] Your CPU supports instructions that this TensorFlow binary was not compiled to use: AVX2 AVX512F FMA\n",
            "2020-03-25 10:14:35.407607: I tensorflow/core/platform/profile_utils/cpu_utils.cc:94] CPU Frequency: 2000129999 Hz\n",
            "2020-03-25 10:14:35.407788: I tensorflow/compiler/xla/service/service.cc:168] XLA service 0x2f0f100 initialized for platform Host (this does not guarantee that XLA will be used). Devices:\n",
            "2020-03-25 10:14:35.407816: I tensorflow/compiler/xla/service/service.cc:176]   StreamExecutor device (0): Host, Default Version\n",
            "2020-03-25 10:14:35.516693: I tensorflow/stream_executor/cuda/cuda_gpu_executor.cc:983] successful NUMA node read from SysFS had negative value (-1), but there must be at least one NUMA node, so returning NUMA node zero\n",
            "2020-03-25 10:14:35.517591: I tensorflow/compiler/xla/service/service.cc:168] XLA service 0x2f0f2c0 initialized for platform CUDA (this does not guarantee that XLA will be used). Devices:\n",
            "2020-03-25 10:14:35.517624: I tensorflow/compiler/xla/service/service.cc:176]   StreamExecutor device (0): Tesla T4, Compute Capability 7.5\n",
            "2020-03-25 10:14:35.517786: I tensorflow/stream_executor/cuda/cuda_gpu_executor.cc:983] successful NUMA node read from SysFS had negative value (-1), but there must be at least one NUMA node, so returning NUMA node zero\n",
            "2020-03-25 10:14:35.518259: I tensorflow/core/common_runtime/gpu/gpu_device.cc:1618] Found device 0 with properties: \n",
            "name: Tesla T4 major: 7 minor: 5 memoryClockRate(GHz): 1.59\n",
            "pciBusID: 0000:00:04.0\n",
            "2020-03-25 10:14:35.518313: I tensorflow/stream_executor/platform/default/dso_loader.cc:44] Successfully opened dynamic library libcudart.so.10.0\n",
            "2020-03-25 10:14:35.518328: I tensorflow/stream_executor/platform/default/dso_loader.cc:44] Successfully opened dynamic library libcublas.so.10.0\n",
            "2020-03-25 10:14:35.518341: I tensorflow/stream_executor/platform/default/dso_loader.cc:44] Successfully opened dynamic library libcufft.so.10.0\n",
            "2020-03-25 10:14:35.518354: I tensorflow/stream_executor/platform/default/dso_loader.cc:44] Successfully opened dynamic library libcurand.so.10.0\n",
            "2020-03-25 10:14:35.518366: I tensorflow/stream_executor/platform/default/dso_loader.cc:44] Successfully opened dynamic library libcusolver.so.10.0\n",
            "2020-03-25 10:14:35.518379: I tensorflow/stream_executor/platform/default/dso_loader.cc:44] Successfully opened dynamic library libcusparse.so.10.0\n",
            "2020-03-25 10:14:35.518392: I tensorflow/stream_executor/platform/default/dso_loader.cc:44] Successfully opened dynamic library libcudnn.so.7\n",
            "2020-03-25 10:14:35.518440: I tensorflow/stream_executor/cuda/cuda_gpu_executor.cc:983] successful NUMA node read from SysFS had negative value (-1), but there must be at least one NUMA node, so returning NUMA node zero\n",
            "2020-03-25 10:14:35.518955: I tensorflow/stream_executor/cuda/cuda_gpu_executor.cc:983] successful NUMA node read from SysFS had negative value (-1), but there must be at least one NUMA node, so returning NUMA node zero\n",
            "2020-03-25 10:14:35.520200: I tensorflow/core/common_runtime/gpu/gpu_device.cc:1746] Adding visible gpu devices: 0\n",
            "2020-03-25 10:14:35.520325: I tensorflow/stream_executor/platform/default/dso_loader.cc:44] Successfully opened dynamic library libcudart.so.10.0\n",
            "2020-03-25 10:14:35.521775: I tensorflow/core/common_runtime/gpu/gpu_device.cc:1159] Device interconnect StreamExecutor with strength 1 edge matrix:\n",
            "2020-03-25 10:14:35.521809: I tensorflow/core/common_runtime/gpu/gpu_device.cc:1165]      0 \n",
            "2020-03-25 10:14:35.521835: I tensorflow/core/common_runtime/gpu/gpu_device.cc:1178] 0:   N \n",
            "2020-03-25 10:14:35.521986: I tensorflow/stream_executor/cuda/cuda_gpu_executor.cc:983] successful NUMA node read from SysFS had negative value (-1), but there must be at least one NUMA node, so returning NUMA node zero\n",
            "2020-03-25 10:14:35.523717: I tensorflow/stream_executor/cuda/cuda_gpu_executor.cc:983] successful NUMA node read from SysFS had negative value (-1), but there must be at least one NUMA node, so returning NUMA node zero\n",
            "2020-03-25 10:14:35.524719: W tensorflow/core/common_runtime/gpu/gpu_bfc_allocator.cc:39] Overriding allow_growth setting because the TF_FORCE_GPU_ALLOW_GROWTH environment variable is set. Original config value was 0.\n",
            "2020-03-25 10:14:35.524783: I tensorflow/core/common_runtime/gpu/gpu_device.cc:1304] Created TensorFlow device (/job:localhost/replica:0/task:0/device:GPU:0 with 14221 MB memory) -> physical GPU (device: 0, name: Tesla T4, pci bus id: 0000:00:04.0, compute capability: 7.5)\n",
            "WARNING:tensorflow:From src/generate_unconditional_samples.py:54: The name tf.set_random_seed is deprecated. Please use tf.compat.v1.set_random_seed instead.\n",
            "\n",
            "WARNING:tensorflow:From /content/gpt-2/src/model.py:148: The name tf.variable_scope is deprecated. Please use tf.compat.v1.variable_scope instead.\n",
            "\n",
            "WARNING:tensorflow:From /content/gpt-2/src/model.py:152: The name tf.get_variable is deprecated. Please use tf.compat.v1.get_variable instead.\n",
            "\n",
            "WARNING:tensorflow:From /content/gpt-2/src/model.py:36: The name tf.rsqrt is deprecated. Please use tf.math.rsqrt instead.\n",
            "\n",
            "WARNING:tensorflow:From /content/gpt-2/src/model.py:166: The name tf.add_to_collection is deprecated. Please use tf.compat.v1.add_to_collection instead.\n",
            "\n",
            "WARNING:tensorflow:From /content/gpt-2/src/sample.py:65: to_float (from tensorflow.python.ops.math_ops) is deprecated and will be removed in a future version.\n",
            "Instructions for updating:\n",
            "Use `tf.cast` instead.\n",
            "WARNING:tensorflow:From /content/gpt-2/src/sample.py:16: where (from tensorflow.python.ops.array_ops) is deprecated and will be removed in a future version.\n",
            "Instructions for updating:\n",
            "Use tf.where in 2.0, which has the same broadcast rule as np.where\n",
            "WARNING:tensorflow:From /content/gpt-2/src/sample.py:70: multinomial (from tensorflow.python.ops.random_ops) is deprecated and will be removed in a future version.\n",
            "Instructions for updating:\n",
            "Use `tf.random.categorical` instead.\n",
            "WARNING:tensorflow:From src/generate_unconditional_samples.py:63: The name tf.train.Saver is deprecated. Please use tf.compat.v1.train.Saver instead.\n",
            "\n",
            "2020-03-25 10:14:44.634636: I tensorflow/stream_executor/platform/default/dso_loader.cc:44] Successfully opened dynamic library libcublas.so.10.0\n"
          ],
          "name": "stdout"
        }
      ]
    },
    {
      "cell_type": "code",
      "metadata": {
        "id": "JzY3goJFbmMm"
      },
      "source": [
        "# files.download('DH_generated_samples_2.txt') "
      ],
      "execution_count": null,
      "outputs": []
    },
    {
      "cell_type": "code",
      "metadata": {
        "id": "kbYpq0v8drpd"
      },
      "source": [
        "#gen_file = 'gpt2_gentext_{:%Y%m%d_%H%M%S}.txt'.format(datetime.utcnow()) #does not work\n",
        "#!python3 src/generate_unconditional_samples.py --nsamples=25 --top_k=40 --model_name \"345M\" --destination_path=gen_file | tee /tmp/samples"
      ],
      "execution_count": null,
      "outputs": []
    },
    {
      "cell_type": "markdown",
      "metadata": {
        "id": "VM1Hag-JL3Bt"
      },
      "source": [
        "To check flag descriptions, use:"
      ]
    },
    {
      "cell_type": "code",
      "metadata": {
        "id": "Sdxfye-SL66I"
      },
      "source": [
        "!python3 src/generate_unconditional_samples.py -- --help"
      ],
      "execution_count": null,
      "outputs": []
    }
  ]
}